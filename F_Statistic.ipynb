{
  "cells": [
    {
      "cell_type": "markdown",
      "metadata": {
        "collapsed": false,
        "id": "Fsapr1slmoMG"
      },
      "source": [
        "# Three or more group comparison"
      ]
    },
    {
      "cell_type": "code",
      "execution_count": null,
      "metadata": {
        "id": "oej-bhMwmoME"
      },
      "outputs": [],
      "source": [
        "%matplotlib inline\n",
        "import matplotlib.pyplot as plt\n",
        "import seaborn as sns\n",
        "import numpy as np\n",
        "import pandas as pd"
      ]
    },
    {
      "cell_type": "code",
      "execution_count": null,
      "metadata": {
        "id": "ewdF6qWvmoMF"
      },
      "outputs": [],
      "source": [
        "def MAD( datalist ):\n",
        "    z = []#empty list\n",
        "    for i in datalist:\n",
        "        z.append( np.abs( i - np.median(datalist) ) )\n",
        "    return np.median(z)"
      ]
    },
    {
      "cell_type": "code",
      "execution_count": null,
      "metadata": {
        "id": "weXUj6kzmoMH",
        "outputId": "68d3530a-0c8f-4b11-cf71-66e34c78edd2"
      },
      "outputs": [
        {
          "data": {
            "text/html": [
              "<div>\n",
              "<style scoped>\n",
              "    .dataframe tbody tr th:only-of-type {\n",
              "        vertical-align: middle;\n",
              "    }\n",
              "\n",
              "    .dataframe tbody tr th {\n",
              "        vertical-align: top;\n",
              "    }\n",
              "\n",
              "    .dataframe thead th {\n",
              "        text-align: right;\n",
              "    }\n",
              "</style>\n",
              "<table border=\"1\" class=\"dataframe\">\n",
              "  <thead>\n",
              "    <tr style=\"text-align: right;\">\n",
              "      <th></th>\n",
              "      <th>Drug A</th>\n",
              "      <th>Drug B</th>\n",
              "      <th>Drug C</th>\n",
              "    </tr>\n",
              "  </thead>\n",
              "  <tbody>\n",
              "    <tr>\n",
              "      <th>0</th>\n",
              "      <td>2</td>\n",
              "      <td>7</td>\n",
              "      <td>3</td>\n",
              "    </tr>\n",
              "    <tr>\n",
              "      <th>1</th>\n",
              "      <td>3</td>\n",
              "      <td>8</td>\n",
              "      <td>7</td>\n",
              "    </tr>\n",
              "    <tr>\n",
              "      <th>2</th>\n",
              "      <td>2</td>\n",
              "      <td>9</td>\n",
              "      <td>6</td>\n",
              "    </tr>\n",
              "    <tr>\n",
              "      <th>3</th>\n",
              "      <td>2</td>\n",
              "      <td>8</td>\n",
              "      <td>6</td>\n",
              "    </tr>\n",
              "    <tr>\n",
              "      <th>4</th>\n",
              "      <td>2</td>\n",
              "      <td>7</td>\n",
              "      <td>7</td>\n",
              "    </tr>\n",
              "    <tr>\n",
              "      <th>5</th>\n",
              "      <td>1</td>\n",
              "      <td>9</td>\n",
              "      <td>5</td>\n",
              "    </tr>\n",
              "    <tr>\n",
              "      <th>6</th>\n",
              "      <td>3</td>\n",
              "      <td>7</td>\n",
              "      <td>6</td>\n",
              "    </tr>\n",
              "    <tr>\n",
              "      <th>7</th>\n",
              "      <td>3</td>\n",
              "      <td>8</td>\n",
              "      <td>4</td>\n",
              "    </tr>\n",
              "    <tr>\n",
              "      <th>8</th>\n",
              "      <td>3</td>\n",
              "      <td>7</td>\n",
              "      <td>5</td>\n",
              "    </tr>\n",
              "  </tbody>\n",
              "</table>\n",
              "</div>"
            ],
            "text/plain": [
              "   Drug A  Drug B  Drug C\n",
              "0       2       7       3\n",
              "1       3       8       7\n",
              "2       2       9       6\n",
              "3       2       8       6\n",
              "4       2       7       7\n",
              "5       1       9       5\n",
              "6       3       7       6\n",
              "7       3       8       4\n",
              "8       3       7       5"
            ]
          },
          "execution_count": 3,
          "metadata": {},
          "output_type": "execute_result"
        }
      ],
      "source": [
        "#IMPORT DATA\n",
        "pain_level = pd.read_csv( 'migraines.csv' )\n",
        "pain_level"
      ]
    },
    {
      "cell_type": "code",
      "execution_count": null,
      "metadata": {
        "id": "p4FaqYdVmoMI",
        "outputId": "9a8b8eb6-a789-41f0-9740-fb712d5e1450"
      },
      "outputs": [
        {
          "data": {
            "text/plain": [
              "<seaborn.axisgrid.FacetGrid at 0x7f7763d81ee0>"
            ]
          },
          "execution_count": 4,
          "metadata": {},
          "output_type": "execute_result"
        },
        {
          "data": {
            "image/png": "[encoded data removed]",
            "text/plain": [
              "<Figure size 360x360 with 1 Axes>"
            ]
          },
          "execution_count": 4,
          "metadata": {
            "image/png": {
              "height": 351,
              "width": 352
            },
            "needs_background": "light"
          },
          "output_type": "execute_result"
        }
      ],
      "source": [
        "#EXTRACT EACH COLUMN\n",
        "\n",
        "drugA = pain_level['Drug A']\n",
        "drugB = pain_level['Drug B']\n",
        "drugC = pain_level['Drug C']\n",
        "\n",
        "#PLOT DATASET\n",
        "sns.displot( data = drugA , bins = 3)"
      ]
    },
    {
      "cell_type": "code",
      "execution_count": null,
      "metadata": {
        "id": "ABMRvSKHmoMJ",
        "outputId": "e2d80224-2574-4439-9464-131aac67f2e4"
      },
      "outputs": [
        {
          "name": "stdout",
          "output_type": "stream",
          "text": [
            "1.0\n",
            "1.0\n",
            "1.0\n"
          ]
        }
      ],
      "source": [
        "#FIND THE MADs OF EACH DATASET\n",
        "print( MAD( drugA ) )\n",
        "print( MAD( drugB ) )\n",
        "print( MAD( drugC ) )\n",
        "\n",
        "#BIG BOX ASSUMPTION CAN BE DONE"
      ]
    },
    {
      "cell_type": "markdown",
      "metadata": {
        "collapsed": false,
        "id": "x5NtEEXemoMJ"
      },
      "source": [
        "## HOW DO YOU COMPARE THREE GROUPS OR MORE?\n",
        "\n",
        "Use your knowledge of two group comparison. \n",
        "\n",
        "In this week's lab we have three groups:\n",
        "\n",
        "When comparing three groups, there is 3 distinct comparisons which can be done.\n",
        "\n",
        "Group 1 vs Group 2\n",
        "\n",
        "Group 1 vs Group 3\n",
        "\n",
        "Group 2 vs Group 3"
      ]
    },
    {
      "cell_type": "markdown",
      "metadata": {
        "collapsed": false,
        "id": "hztrkS7SmoMK"
      },
      "source": [
        "## WHEN IS THREE GROUP COMPARISON VALID? \n",
        "\n",
        "The groups need to pass the omnibus test.\n",
        "\n",
        "How to perform the omnibus test?\n",
        "\n",
        "Determine if your observed F-statistic is statistically significant.\n",
        "\n",
        "$F = \\frac{num}{ den}$\n",
        "\n",
        "**Ratio** of the **across group variability** vs **within group variability**.\n",
        "\n",
        "num = across group variability\n",
        "\n",
        "den = within group variability\n",
        "\n",
        "$$ F_{stat}=\\frac{n_{a}|\\widetilde{a}-\\widetilde{G}|+n_{b}|\\widetilde{b}-\\widetilde{G}|+n_{c}|\\widetilde{c}-\\widetilde{G}|}{\\Sigma|a_{i}-\\widetilde{a}|+\\Sigma|b_{i}-\\widetilde{b}|+\\Sigma|c_{i}-\\widetilde{c}|} $$\n",
        "\n",
        "$\\widetilde{a}$ :the median of dataset A\n",
        "\n",
        "$\\widetilde{b}$ :the median of dataset B\n",
        "\n",
        "$\\widetilde{c}$ :the median of dataset C\n",
        "\n",
        "$\\widetilde{G}$: the grand median - median of all three datasets combined.\n",
        "\n",
        "$n_a$: number of data points in dataset A\n",
        "\n",
        "$n_b$: number of data points in dataset B\n",
        "\n",
        "$n_c$: number of data points in dataset C\n",
        "\n",
        "In our case $n_a = n_b = n_c$\n",
        "\n",
        "\n",
        "$$ F_{stat}=\\frac{n_{a} ( |\\widetilde{a}-\\widetilde{G}|+|\\widetilde{b}-\\widetilde{G}|+ |\\widetilde{c}-\\widetilde{G}| )}{\\Sigma|a_{i}-\\widetilde{a}|+\\Sigma|b_{i}-\\widetilde{b}|+\\Sigma|c_{i}-\\widetilde{c}|} $$\n",
        "\n",
        "\n"
      ]
    },
    {
      "cell_type": "code",
      "execution_count": null,
      "metadata": {
        "id": "aahAWkW_moMK"
      },
      "outputs": [],
      "source": [
        "#DO NOT CHANGE THIS FUNCTION\n",
        "def Fcompute( data ):\n",
        "    G = np.median(data) #grand median\n",
        "\n",
        "    med_datas = data.median() #medians\n",
        "\n",
        "    n = len( data )\n",
        "\n",
        "    var_among = np.sum( n * np.abs(med_datas - G) ) #numerator\n",
        "\n",
        "    var_within = np.sum( np.sum( np.abs( data - med_datas ) ) ) #denominator\n",
        "\n",
        "    F = var_among/var_within\n",
        "\n",
        "    return F"
      ]
    },
    {
      "cell_type": "code",
      "execution_count": null,
      "metadata": {
        "id": "9tbr8rfMmoML",
        "outputId": "ac63e4be-bb89-4967-d657-7f82c625aa5d"
      },
      "outputs": [
        {
          "data": {
            "text/plain": [
              "2.7"
            ]
          },
          "execution_count": 7,
          "metadata": {},
          "output_type": "execute_result"
        }
      ],
      "source": [
        "Fobs = Fcompute( pain_level )\n",
        "Fobs"
      ]
    },
    {
      "cell_type": "markdown",
      "metadata": {
        "collapsed": false,
        "id": "cfRru-_BmoML"
      },
      "source": [
        "# NHST on the F statistic\n",
        "\n",
        "$H_0$: The observed F is not statistically significant.\n",
        "\n",
        "Test theory:\n",
        "\n",
        "1) Big box method.\n",
        "2) Randomly distribute scores in three different groups.\n",
        "3) Calculate F value."
      ]
    },
    {
      "cell_type": "code",
      "execution_count": null,
      "metadata": {
        "id": "nPlaZbNdmoML",
        "outputId": "f9572d97-ca8d-4f4b-8010-67692a4fda10"
      },
      "outputs": [
        {
          "data": {
            "text/plain": [
              "0.3829787234042553"
            ]
          },
          "execution_count": 8,
          "metadata": {},
          "output_type": "execute_result"
        }
      ],
      "source": [
        "#ONE SIMULATION\n",
        "#WE WILL NEED TO USE THE FOLLOWING FUNCTIONS\n",
        "#np.concatenate()\n",
        "#np.column_stack()\n",
        "#pd.DataFrame()\n",
        "\n",
        "drugA = pain_level['Drug A']\n",
        "drugB = pain_level['Drug B']\n",
        "drugC = pain_level['Drug C']\n",
        "\n",
        "#CREATE THE BIG BOX MODEL\n",
        "bigbox = np.concatenate( [ drugA ,drugB , drugC ] )\n",
        "\n",
        "#TAKE 3 RANDOM RESAMPLES\n",
        "resample_A = np.random.choice( bigbox , len( drugA ) )\n",
        "resample_B = np.random.choice( bigbox , len( drugB ) ) #you can use the length of any of the 3 datasets since they have the same number of data points\n",
        "resample_C = np.random.choice( bigbox , len( drugC ) )\n",
        "\n",
        "#CREATE A DATA FRAME\n",
        "\n",
        "#MAKE A MATRIX FIRST\n",
        "col_matrix = np.column_stack( [resample_A,resample_B,resample_C] )\n",
        "\n",
        "#CONVERT MATRIX INTO A DATA FRAME\n",
        "df_drugs = pd.DataFrame( col_matrix )\n",
        "\n",
        "Fcompute( df_drugs )"
      ]
    },
    {
      "cell_type": "code",
      "execution_count": null,
      "metadata": {
        "id": "bYZHc-mrmoMM",
        "outputId": "b7b64c02-d677-4d6b-899f-af6f7681c3e5"
      },
      "outputs": [
        {
          "name": "stdout",
          "output_type": "stream",
          "text": [
            "0.0\n"
          ]
        },
        {
          "data": {
            "image/png": "[encoded data removed]",
            "text/plain": [
              "<Figure size 360x360 with 1 Axes>"
            ]
          },
          "execution_count": 9,
          "metadata": {
            "image/png": {
              "height": 352,
              "width": 352
            },
            "needs_background": "light"
          },
          "output_type": "execute_result"
        }
      ],
      "source": [
        "#MULTIPLE SIMULATION\n",
        "#USING AN EMPTY LIST\n",
        "Flist = []\n",
        "for i in range(10000):\n",
        "    resample_A = np.random.choice( bigbox , 9 )\n",
        "    resample_B = np.random.choice( bigbox , 9 )\n",
        "    resample_C = np.random.choice( bigbox , 9 )\n",
        "\n",
        "    col_matrix = np.column_stack( [resample_A,resample_B,resample_C] )\n",
        "    df_drugs = pd.DataFrame( col_matrix )\n",
        "\n",
        "    Flist.append( Fcompute( df_drugs ) )\n",
        "    \n",
        "sns.displot( data = Flist )\n",
        "plt.axvline( Fobs , color = 'r' )\n",
        "\n",
        "F_arr = np.array( Flist )\n",
        "p = np.sum(F_arr>=Fobs)/len(F_arr)\n",
        "print(p)"
      ]
    },
    {
      "cell_type": "code",
      "execution_count": null,
      "metadata": {
        "id": "3TV_jTSxmoMM",
        "outputId": "b595c5a9-64ff-4671-9321-a08f2f6dd361"
      },
      "outputs": [
        {
          "name": "stdout",
          "output_type": "stream",
          "text": [
            "0.0\n"
          ]
        },
        {
          "data": {
            "image/png": "[encoded data removed]",
            "text/plain": [
              "<Figure size 360x360 with 1 Axes>"
            ]
          },
          "execution_count": 14,
          "metadata": {
            "image/png": {
              "height": 352,
              "width": 352
            },
            "needs_background": "light"
          },
          "output_type": "execute_result"
        }
      ],
      "source": [
        "#MULTIPLE SIMULATION\n",
        "#USING np.zeros() FUNCTION\n",
        "\n",
        "F_arr = np.zeros( 10000 )\n",
        "for i in range(10000):\n",
        "    resample_A = np.random.choice( bigbox , len( drugA ) )\n",
        "    resample_B = np.random.choice( bigbox , len( drugB ) ) #you can use the length of any of the 3 datasets since they have the same number of data points\n",
        "    resample_C = np.random.choice( bigbox , len( drugC ) )\n",
        "\n",
        "    col_matrix = np.column_stack( [resample_A,resample_B,resample_C] )\n",
        "    df_drugs = pd.DataFrame( col_matrix )\n",
        "\n",
        "    F_arr[i] = Fcompute( df_drugs )\n",
        "    \n",
        "sns.displot( data = Flist )\n",
        "plt.axvline( Fobs , color = 'r' )\n",
        "p = np.sum(F_arr>=Fobs)/len(F_arr)\n",
        "print(p)"
      ]
    },
    {
      "cell_type": "markdown",
      "metadata": {
        "collapsed": false,
        "id": "EvM3_CpVmoMN"
      },
      "source": [
        "# NHST comparing the datasets\n",
        "\n",
        "$H_0$: There's no difference between the different drugs, and the observed difference in the median is due to random chance.\n",
        "\n",
        "Mathematically: $median_1 - median_2 = 0$\n",
        "\n",
        "Test:\n",
        "1) Join the groups together into the same population (one box universe).\n",
        "2) Randomly resample scores in two different groups - drug1 and drug2.\n",
        "3) Take the difference in the two groups median values.\n",
        "4) Perform this task multiple times (multiple simulations)."
      ]
    },
    {
      "cell_type": "code",
      "execution_count": null,
      "metadata": {
        "id": "FRn-o_ramoMN",
        "outputId": "5d44df9a-bfe2-41dd-8eaf-72ec33550c41"
      },
      "outputs": [
        {
          "name": "stdout",
          "output_type": "stream",
          "text": [
            "0.0116\n"
          ]
        },
        {
          "data": {
            "image/png": "[encoded data removed]",
            "text/plain": [
              "<Figure size 360x360 with 1 Axes>"
            ]
          },
          "execution_count": 15,
          "metadata": {
            "image/png": {
              "height": 365,
              "width": 352
            },
            "needs_background": "light"
          },
          "output_type": "execute_result"
        }
      ],
      "source": [
        "#YOU CAN USE THE SAME ANALYSIS IN LAB 3\n",
        "#COMPARING MEDIANS\n",
        "\n",
        "#LET'S COMPARE DRUG A VS DRUG B\n",
        "\n",
        "drugA_arr = np.array( drugA )\n",
        "drugB_arr = np.array( drugB )\n",
        "na = len(drugA_arr)\n",
        "nb = len(drugB_arr)\n",
        "\n",
        "obs = np.median( drugA_arr ) - np.median( drugB_arr )\n",
        "\n",
        "pos_obs = np.abs(obs)\n",
        "other_limit = -pos_obs\n",
        "\n",
        "pop = np.concatenate( [drugA_arr,drugB_arr] )\n",
        "\n",
        "simulations = 10000\n",
        "\n",
        "dlist = []\n",
        "for i in range(simulations):\n",
        "    resample_A = np.random.choice( pop, na )\n",
        "    resample_B = np.random.choice( pop, nb )\n",
        "    m1 = np.median(resample_A)\n",
        "    m2 = np.median(resample_B)\n",
        "    d = m1 - m2\n",
        "    dlist.append( d )\n",
        "\n",
        "p = sns.displot( data = dlist )\n",
        "p.set( xlabel = 'Difference in medians' )\n",
        "plt.axvline( pos_obs , color = 'red' )\n",
        "plt.axvline( other_limit , color = 'red' )\n",
        "\n",
        "#pvalue\n",
        "d_arr = np.array( dlist )\n",
        "extreme_right = np.sum( d_arr >= pos_obs )\n",
        "extreme_left = np.sum( d_arr <= other_limit )\n",
        "extreme = extreme_right + extreme_left\n",
        "\n",
        "pvalue = extreme/simulations\n",
        "\n",
        "print(pvalue)"
      ]
    },
    {
      "cell_type": "code",
      "execution_count": null,
      "metadata": {
        "id": "-tHZDsVsmoMN",
        "outputId": "8516af84-4871-4aad-e471-203ef8b983aa"
      },
      "outputs": [
        {
          "name": "stdout",
          "output_type": "stream",
          "text": [
            "0.0132\n",
            "0.0136\n",
            "0.0771\n"
          ]
        }
      ],
      "source": [
        "#IF YOU NOTICE THE WORK WILL GET REPETITIVE\n",
        "#SO LET'S MAKE A FUCNTION THAT TAKES IN ANY 2 DATSETS AND COMPARES THEM USING THE BIG BOX ASSUMPTION\n",
        "\n",
        "def BigBoxCompare( data1 , data2 ): #function takes in 2 inputs\n",
        "\n",
        "    #CONVERTS BOTH DATASETS INTO ARRAYS\n",
        "    data1_arr = np.array( data1 )\n",
        "    data2_arr = np.array( data2 )\n",
        "\n",
        "    #FIND THE LENGTH OF BOTH DATASETS\n",
        "    n1 = len(data1_arr)\n",
        "    n2 = len(data2_arr)\n",
        "\n",
        "    #FIND THE OBSERVED MEASUREMENT\n",
        "    Mobs = np.median( data1_arr ) - np.median( data2_arr )\n",
        "\n",
        "    #CONVERT Mobs INTO POSITIVE VALUE\n",
        "    pos_obs = np.abs(Mobs)\n",
        "    other_limit = -pos_obs\n",
        "\n",
        "    #JOIN BOTH DATASETS TOGETHER\n",
        "    pop = np.concatenate( [data1_arr,data2_arr] )\n",
        "\n",
        "    simulations = range(10000)\n",
        "    dlist = []\n",
        "    for i in simulations:\n",
        "        resample_1 = np.random.choice( pop, n1 )\n",
        "        resample_2 = np.random.choice( pop, n2 )\n",
        "        m1 = np.median(resample_1)\n",
        "        m2 = np.median(resample_2)\n",
        "        d = m1 - m2\n",
        "        dlist.append( d )\n",
        "\n",
        "    #p = sns.displot( data = dlist )\n",
        "    #p.set( xlabel = 'Difference in medians' )\n",
        "    #plt.axvline( pos_obs , color = 'red' )\n",
        "    #plt.axvline( other_limit , color = 'red' )\n",
        "\n",
        "    #pvalue\n",
        "    d_arr = np.array( dlist )\n",
        "    extreme_right = np.sum( d_arr >= pos_obs )\n",
        "    extreme_left = np.sum( d_arr <= other_limit )\n",
        "    extreme = extreme_right + extreme_left\n",
        "\n",
        "    pvalue = extreme/len( d_arr )\n",
        "\n",
        "    return  pvalue\n",
        "\n",
        "pvalue1 = BigBoxCompare( drugA , drugB )\n",
        "pvalue2 = BigBoxCompare( drugA , drugC )\n",
        "pvalue3 = BigBoxCompare( drugB , drugC )\n",
        "\n",
        "print( pvalue1 )\n",
        "print( pvalue2 )\n",
        "print( pvalue3 )"
      ]
    },
    {
      "cell_type": "markdown",
      "metadata": {
        "collapsed": false,
        "id": "x-CbhaH0moMO"
      },
      "source": [
        "## Post Hoc Analysis\n",
        "\n",
        "When performing multiple tests, we need to perform a multiple-test correction - either the Benjamini-Hochberg correction or the Bonferroni correction.\n",
        "\n",
        "We can do these correction either by hand or with Python. \n",
        "\n",
        "If performing the correction with Python, we need to import the statsmodels.stats.multites library. We typically give this library the name smm.\n",
        "\n",
        "import statsmodels.stats.multitest as smm\n",
        "\n",
        "The function we are interested in using from statsmodels.stats.multites library, is the smm.multipletests() function.\n",
        "\n",
        "This function takes 3 inputs:\n",
        "\n",
        "$1^{st}$: the list of pvalues you are correcting.\n",
        "\n",
        "$2^{nd}$: the threshold you are using, $\\alpha$.\n",
        "\n",
        "$3^{rd}$: the method (as a string) you are using, Benjamini-Hochberg correction or the Bonferroni correction.\n",
        "\n",
        "smm.multipletests( pvals, alpha, method)\n",
        "\n",
        "The output contains 4 values:\n",
        "\n",
        "$1^{st}$: an array specifying which pvalues are statistically significant.\n",
        "\n",
        "$2^{nd}$: the corrected pvalues.\n",
        "\n",
        "$3^{rd}$: the corrected alpha for Sidak method - NOT IMPORTANT\n",
        "\n",
        "$4^{th}$: corrected alpha for Bonferroni method"
      ]
    },
    {
      "cell_type": "code",
      "execution_count": null,
      "metadata": {
        "id": "0fNISDmYmoMO",
        "outputId": "8a35d3fb-6928-400c-e6ea-b82ffa221df1"
      },
      "outputs": [
        {
          "data": {
            "text/plain": [
              "(array([ True,  True, False]),\n",
              " array([0.018 , 0.018 , 0.0782]),\n",
              " 0.016952427508441503,\n",
              " 0.016666666666666666)"
            ]
          },
          "execution_count": 19,
          "metadata": {},
          "output_type": "execute_result"
        }
      ],
      "source": [
        "#WHEN PERFORMING MULTIPLE SIMULATIONS YOU NEED TO MAKE SURE YOU PERFORM A CORRECTION\n",
        "#WE WILL PERFORM A Benjamini-Hochberg CORRECTION\n",
        "import statsmodels.stats.multitest as smm\n",
        "\n",
        "#STORE YOUR PVALUES IN A LIST\n",
        "pvalue_list = [pvalue1, pvalue2, pvalue3]\n",
        "\n",
        "#CHOICE A THRESHOLD (ALPHA)\n",
        "threshold = 0.05\n",
        "\n",
        "#TYPE 'fdr_bh' IN THE METHOD SECTION - THIS LETS THE FUNCTION KNOW WE ARE PERFORMING A Benjamini-Hochberg CORRECTION\n",
        "\n",
        "smm.multipletests(pvalue_list, alpha = threshold , method = 'fdr_bh')"
      ]
    },
    {
      "cell_type": "markdown",
      "metadata": {
        "collapsed": false,
        "id": "O7m1AQy6moMO"
      },
      "source": [
        "### WE CAN SEE ONLY THE FIRST TWO PVALUES REMAIN STATISTICALLY SIGNIFICANT\n",
        "\n",
        "### AND THE UPDATED VALUES ARE $pvalue_1 = 0.018$ AND  $pvalue_2 = 0.018$.\n",
        "\n",
        "### THERE IS NO STATISTICALLY SIGNIFICANT DIFFERENCE BETWEEN DRUG B AND DRUG C"
      ]
    },
    {
      "cell_type": "code",
      "execution_count": null,
      "metadata": {
        "id": "gpenVQfXmoMO"
      },
      "outputs": [],
      "source": []
    }
  ],
  "metadata": {
    "kernelspec": {
      "display_name": "Python 3 (system-wide)",
      "language": "python",
      "metadata": {
        "cocalc": {
          "description": "Python 3 programming language",
          "priority": 100,
          "url": "https://www.python.org/"
        }
      },
      "name": "python3",
      "resource_dir": "/ext/jupyter/kernels/python3"
    },
    "language_info": {
      "codemirror_mode": {
        "name": "ipython",
        "version": 3
      },
      "file_extension": ".py",
      "mimetype": "text/x-python",
      "name": "python",
      "nbconvert_exporter": "python",
      "pygments_lexer": "ipython3",
      "version": "3.8.10"
    },
    "colab": {
      "provenance": []
    }
  },
  "nbformat": 4,
  "nbformat_minor": 0
}