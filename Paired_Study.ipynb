{
  "cells": [
    {
      "cell_type": "code",
      "execution_count": null,
      "metadata": {
        "id": "-guaT7fGFZuA"
      },
      "outputs": [],
      "source": [
        "#PREVIOUS LIBRARIES\n",
        "%matplotlib inline\n",
        "import seaborn as sns\n",
        "import numpy as np\n",
        "import matplotlib.pyplot as plt\n",
        "\n",
        "#NEW LIBRARY\n",
        "import pandas as pd"
      ]
    },
    {
      "cell_type": "code",
      "execution_count": null,
      "metadata": {
        "id": "jiZ82QsTFZuJ",
        "outputId": "adf0f27b-efb9-4770-9601-9a547fd572da"
      },
      "outputs": [
        {
          "data": {
            "text/html": [
              "<div>\n",
              "<style scoped>\n",
              "    .dataframe tbody tr th:only-of-type {\n",
              "        vertical-align: middle;\n",
              "    }\n",
              "\n",
              "    .dataframe tbody tr th {\n",
              "        vertical-align: top;\n",
              "    }\n",
              "\n",
              "    .dataframe thead th {\n",
              "        text-align: right;\n",
              "    }\n",
              "</style>\n",
              "<table border=\"1\" class=\"dataframe\">\n",
              "  <thead>\n",
              "    <tr style=\"text-align: right;\">\n",
              "      <th></th>\n",
              "      <th>Exposed</th>\n",
              "      <th>Control</th>\n",
              "    </tr>\n",
              "  </thead>\n",
              "  <tbody>\n",
              "    <tr>\n",
              "      <th>0</th>\n",
              "      <td>38</td>\n",
              "      <td>16</td>\n",
              "    </tr>\n",
              "    <tr>\n",
              "      <th>1</th>\n",
              "      <td>23</td>\n",
              "      <td>18</td>\n",
              "    </tr>\n",
              "    <tr>\n",
              "      <th>2</th>\n",
              "      <td>41</td>\n",
              "      <td>18</td>\n",
              "    </tr>\n",
              "    <tr>\n",
              "      <th>3</th>\n",
              "      <td>18</td>\n",
              "      <td>24</td>\n",
              "    </tr>\n",
              "    <tr>\n",
              "      <th>4</th>\n",
              "      <td>37</td>\n",
              "      <td>19</td>\n",
              "    </tr>\n",
              "    <tr>\n",
              "      <th>5</th>\n",
              "      <td>36</td>\n",
              "      <td>11</td>\n",
              "    </tr>\n",
              "    <tr>\n",
              "      <th>6</th>\n",
              "      <td>23</td>\n",
              "      <td>10</td>\n",
              "    </tr>\n",
              "    <tr>\n",
              "      <th>7</th>\n",
              "      <td>62</td>\n",
              "      <td>15</td>\n",
              "    </tr>\n",
              "    <tr>\n",
              "      <th>8</th>\n",
              "      <td>31</td>\n",
              "      <td>16</td>\n",
              "    </tr>\n",
              "    <tr>\n",
              "      <th>9</th>\n",
              "      <td>34</td>\n",
              "      <td>18</td>\n",
              "    </tr>\n",
              "    <tr>\n",
              "      <th>10</th>\n",
              "      <td>24</td>\n",
              "      <td>18</td>\n",
              "    </tr>\n",
              "    <tr>\n",
              "      <th>11</th>\n",
              "      <td>14</td>\n",
              "      <td>13</td>\n",
              "    </tr>\n",
              "    <tr>\n",
              "      <th>12</th>\n",
              "      <td>21</td>\n",
              "      <td>19</td>\n",
              "    </tr>\n",
              "    <tr>\n",
              "      <th>13</th>\n",
              "      <td>17</td>\n",
              "      <td>10</td>\n",
              "    </tr>\n",
              "    <tr>\n",
              "      <th>14</th>\n",
              "      <td>16</td>\n",
              "      <td>16</td>\n",
              "    </tr>\n",
              "    <tr>\n",
              "      <th>15</th>\n",
              "      <td>20</td>\n",
              "      <td>16</td>\n",
              "    </tr>\n",
              "    <tr>\n",
              "      <th>16</th>\n",
              "      <td>15</td>\n",
              "      <td>24</td>\n",
              "    </tr>\n",
              "    <tr>\n",
              "      <th>17</th>\n",
              "      <td>10</td>\n",
              "      <td>13</td>\n",
              "    </tr>\n",
              "    <tr>\n",
              "      <th>18</th>\n",
              "      <td>45</td>\n",
              "      <td>9</td>\n",
              "    </tr>\n",
              "    <tr>\n",
              "      <th>19</th>\n",
              "      <td>39</td>\n",
              "      <td>14</td>\n",
              "    </tr>\n",
              "    <tr>\n",
              "      <th>20</th>\n",
              "      <td>22</td>\n",
              "      <td>21</td>\n",
              "    </tr>\n",
              "    <tr>\n",
              "      <th>21</th>\n",
              "      <td>35</td>\n",
              "      <td>19</td>\n",
              "    </tr>\n",
              "    <tr>\n",
              "      <th>22</th>\n",
              "      <td>49</td>\n",
              "      <td>7</td>\n",
              "    </tr>\n",
              "    <tr>\n",
              "      <th>23</th>\n",
              "      <td>48</td>\n",
              "      <td>18</td>\n",
              "    </tr>\n",
              "    <tr>\n",
              "      <th>24</th>\n",
              "      <td>44</td>\n",
              "      <td>19</td>\n",
              "    </tr>\n",
              "    <tr>\n",
              "      <th>25</th>\n",
              "      <td>35</td>\n",
              "      <td>12</td>\n",
              "    </tr>\n",
              "    <tr>\n",
              "      <th>26</th>\n",
              "      <td>43</td>\n",
              "      <td>11</td>\n",
              "    </tr>\n",
              "    <tr>\n",
              "      <th>27</th>\n",
              "      <td>39</td>\n",
              "      <td>22</td>\n",
              "    </tr>\n",
              "    <tr>\n",
              "      <th>28</th>\n",
              "      <td>34</td>\n",
              "      <td>25</td>\n",
              "    </tr>\n",
              "    <tr>\n",
              "      <th>29</th>\n",
              "      <td>13</td>\n",
              "      <td>16</td>\n",
              "    </tr>\n",
              "    <tr>\n",
              "      <th>30</th>\n",
              "      <td>73</td>\n",
              "      <td>13</td>\n",
              "    </tr>\n",
              "    <tr>\n",
              "      <th>31</th>\n",
              "      <td>25</td>\n",
              "      <td>11</td>\n",
              "    </tr>\n",
              "    <tr>\n",
              "      <th>32</th>\n",
              "      <td>27</td>\n",
              "      <td>13</td>\n",
              "    </tr>\n",
              "  </tbody>\n",
              "</table>\n",
              "</div>"
            ],
            "text/plain": [
              "    Exposed  Control\n",
              "0        38       16\n",
              "1        23       18\n",
              "2        41       18\n",
              "3        18       24\n",
              "4        37       19\n",
              "5        36       11\n",
              "6        23       10\n",
              "7        62       15\n",
              "8        31       16\n",
              "9        34       18\n",
              "10       24       18\n",
              "11       14       13\n",
              "12       21       19\n",
              "13       17       10\n",
              "14       16       16\n",
              "15       20       16\n",
              "16       15       24\n",
              "17       10       13\n",
              "18       45        9\n",
              "19       39       14\n",
              "20       22       21\n",
              "21       35       19\n",
              "22       49        7\n",
              "23       48       18\n",
              "24       44       19\n",
              "25       35       12\n",
              "26       43       11\n",
              "27       39       22\n",
              "28       34       25\n",
              "29       13       16\n",
              "30       73       13\n",
              "31       25       11\n",
              "32       27       13"
            ]
          },
          "execution_count": 2,
          "metadata": {},
          "output_type": "execute_result"
        }
      ],
      "source": [
        "#IMPORTING DATA\n",
        "\n",
        "data_lead = pd.read_csv( 'blood_lead.csv' )\n",
        "\n",
        "data_lead"
      ]
    },
    {
      "cell_type": "code",
      "execution_count": null,
      "metadata": {
        "id": "bghFchr3FZuM",
        "outputId": "04bafdfd-04f0-4f57-fa62-2c9bee5972fe"
      },
      "outputs": [
        {
          "data": {
            "text/plain": [
              "<seaborn.axisgrid.FacetGrid at 0x7f69ebe7c2e0>"
            ]
          },
          "execution_count": 3,
          "metadata": {},
          "output_type": "execute_result"
        },
        {
          "data": {
            "image/png": "[encoded data removed]",
            "text/plain": [
              "<Figure size 360x360 with 1 Axes>"
            ]
          },
          "execution_count": 3,
          "metadata": {
            "image/png": {
              "height": 351,
              "width": 352
            },
            "needs_background": "light"
          },
          "output_type": "execute_result"
        }
      ],
      "source": [
        "#EXTRACTING EACH COLUMN\n",
        "#SIMILAR TO INDEX NOTATION\n",
        "\n",
        "exposed = data_lead['Exposed'] #extracting the 1st column in the data frame\n",
        "control = data_lead['Control'] #extracting the 2nd column in the data frame\n",
        "\n",
        "#PLOT HISTOGRAM PLOT\n",
        "sns.displot( data = exposed )"
      ]
    },
    {
      "cell_type": "markdown",
      "metadata": {
        "collapsed": false,
        "id": "2rc-nUX9FZuO"
      },
      "source": [
        "# Paired analysis \\(study\\) \\- \"before and after\" test\n",
        "\n",
        "**Comparing two measurements** from the **\"same\"** subject.\n",
        "\n",
        "Typically we are comparing the **before and after** effect of an event that occurred.\n",
        "\n",
        "Examples:\n",
        "\n",
        "1. Measuring the **blood pressure** of each person in the study, **before and after a drug is administered**.\n",
        "2. Measuring the **speed** of a each swimmer in the study, **before and after a they wear a wetsuit**.\n",
        "\n",
        "Note: Actual data: 66 children - 33 in the exposed group and 33 in the control (not exposed) group.\n",
        "\n",
        "Assumption: **Each child exposed to lead**, is **paired** \n",
        "\n",
        "with a **\"similar\" child**, who was **not exposed**.\n"
      ]
    },
    {
      "cell_type": "markdown",
      "metadata": {
        "collapsed": false,
        "id": "i6kLye0qFZuR"
      },
      "source": [
        "#### Compare the children's lead concentration.\n",
        "\n",
        "1) Find the difference, $\\Delta$, in the datasets - subtract each dataset elementwise.\n",
        "2) Take the median of the difference, $\\tilde{ \\Delta }$ .\n",
        "\n"
      ]
    },
    {
      "cell_type": "code",
      "execution_count": null,
      "metadata": {
        "id": "AEGy5RagFZuS",
        "outputId": "eace9b67-3b63-413f-c6ab-333a6249274c"
      },
      "outputs": [
        {
          "name": "stdout",
          "output_type": "stream",
          "text": [
            "[38 23 41 18 37 36 23 62 31 34 24 14 21 17 16 20 15 10 45 39 22 35 49 48\n",
            " 44 35 43 39 34 13 73 25 27]\n",
            "\n",
            "\n",
            "[16 18 18 24 19 11 10 15 16 18 18 13 19 10 16 16 24 13  9 14 21 19  7 18\n",
            " 19 12 11 22 25 16 13 11 13]\n",
            "\n",
            "\n",
            "[22  5 23 -6 18 25 13 47 15 16  6  1  2  7  0  4 -9 -3 36 25  1 16 42 30\n",
            " 25 23 32 17  9 -3 60 14 14]\n",
            "15.0\n"
          ]
        }
      ],
      "source": [
        "#FIND THE DIFFERENCE\n",
        "#CONVERT TO ARRAYS\n",
        "\n",
        "exposed_arr = np.array( exposed )\n",
        "control_arr = np.array( control )\n",
        "\n",
        "print( exposed_arr )\n",
        "\n",
        "print( '\\n' ) #space line\n",
        "\n",
        "print( control_arr )\n",
        "\n",
        "print( '\\n' )\n",
        "\n",
        "#TAKE THE DIFFERENCE BETWEEN THE DATASETS\n",
        "differences = exposed_arr - control_arr\n",
        "\n",
        "print( differences )\n",
        "\n",
        "\n",
        "#SUMMARIES RESULT BY LOOKING AT MEDIAN\n",
        "#FIND THE MEDIAN DIFFERENCE\n",
        "\n",
        "Mobs = np.median( differences )\n",
        "print( Mobs )"
      ]
    },
    {
      "cell_type": "markdown",
      "metadata": {
        "collapsed": false,
        "id": "00srLbkxFZuT"
      },
      "source": [
        "## Null Hypothesis test\n",
        "\n",
        "$H_0$: Lead exposure makes no difference in the concentration lead in your blood, \n",
        "\n",
        "and the observed median difference value was because of random chance alone.\n",
        "\n",
        "Mathematically: The median difference,  $\\tilde{ \\Delta } = 0$ .  \n",
        "\n",
        "Implement: Flip the sign value of the differences. \n",
        "\n",
        "Some will be positive and some negative in such a way\n",
        "\n",
        "that the median difference will be zero.\n",
        "\n",
        "Steps:\n",
        "\n",
        "1. **Create** a **random distribution** of **ones and negative ones**.\n",
        "2. **Use** the distribution of ones to **randomly flip the signs** of some of the calculated **differences**.\n",
        "3. **Find** the **median difference**  - $\\tilde{ \\Delta }$ .\n",
        "4. **Repeat** multiple simulations.\n",
        "\n"
      ]
    },
    {
      "cell_type": "code",
      "execution_count": null,
      "metadata": {
        "id": "SGuZUQltFZuT",
        "outputId": "ac0eab43-e858-4009-e93b-3546cf0afd90"
      },
      "outputs": [
        {
          "name": "stdout",
          "output_type": "stream",
          "text": [
            "[-1 -1  1 -1 -1 -1 -1  1  1  1  1  1 -1 -1  1 -1  1 -1  1  1  1  1 -1 -1\n",
            " -1  1  1 -1  1 -1  1 -1  1]\n",
            "\n",
            "\n",
            "[22  5 23 -6 18 25 13 47 15 16  6  1  2  7  0  4 -9 -3 36 25  1 16 42 30\n",
            " 25 23 32 17  9 -3 60 14 14]\n",
            "\n",
            "\n",
            "[-22  -5  23   6 -18 -25 -13  47  15  16   6   1  -2  -7   0  -4  -9   3\n",
            "  36  25   1  16 -42 -30 -25  23  32 -17   9   3  60 -14  14]\n"
          ]
        },
        {
          "data": {
            "text/plain": [
              "1.0"
            ]
          },
          "execution_count": 5,
          "metadata": {},
          "output_type": "execute_result"
        }
      ],
      "source": [
        "#ONE SIMULATION\n",
        "signs = [1,-1] #possible flip values\n",
        "\n",
        "#CREATE A RANDOMIZE SIGN ARRAY\n",
        "flip = np.random.choice( signs , len( exposed ) )\n",
        "\n",
        "print( flip )\n",
        "\n",
        "print( '\\n' )\n",
        "\n",
        "print( differences )\n",
        "\n",
        "print( '\\n' )\n",
        "#FLIPPED THE SIGNS IN MY DIFFERENCES\n",
        "flip_diff = flip * differences\n",
        "\n",
        "print( flip_diff )\n",
        "\n",
        "#CALCULATE THE MEDIAN FLIP DIFFERENCES\n",
        "np.median( flip_diff )"
      ]
    },
    {
      "cell_type": "code",
      "execution_count": null,
      "metadata": {
        "id": "G0_Y1rDiFZuU",
        "outputId": "201d7e61-c161-45b8-cc79-1be6b1825a33"
      },
      "outputs": [
        {
          "data": {
            "text/plain": [
              "<matplotlib.lines.Line2D at 0x7f69db85bd00>"
            ]
          },
          "execution_count": 6,
          "metadata": {},
          "output_type": "execute_result"
        },
        {
          "data": {
            "image/png": "[encoded data removed]",
            "text/plain": [
              "<Figure size 360x360 with 1 Axes>"
            ]
          },
          "execution_count": 6,
          "metadata": {
            "image/png": {
              "height": 365,
              "width": 352
            },
            "needs_background": "light"
          },
          "output_type": "execute_result"
        }
      ],
      "source": [
        "#MULTIPLE SIMULATIONS\n",
        "\n",
        "siumlations = range(10000)\n",
        "signs = [1,-1] #possible flip values\n",
        "\n",
        "md_list = []\n",
        "for i in siumlations:\n",
        "    #CREATE A RANDOMIZE SIGN ARRAY\n",
        "    flip = np.random.choice( signs , len( exposed ) )\n",
        "    \n",
        "    #FLIPPED THE SIGNS IN MY DIFFERENCES\n",
        "    flip_diff = flip * differences\n",
        "    \n",
        "    #CALCULATE THE MEDIAN FLIP DIFFERENCES\n",
        "    md = np.median( flip_diff )\n",
        "    \n",
        "    md_list.append( md )\n",
        "    \n",
        "p = sns.displot( data = md_list )\n",
        "p.set( xlabel = 'Median difference from NHST simulations' )\n",
        "plt.axvline( Mobs , color = 'r' ) #limit\n",
        "plt.axvline( -Mobs , color = 'r' ) #other limit"
      ]
    },
    {
      "cell_type": "code",
      "execution_count": null,
      "metadata": {
        "id": "UZaN4BicFZuW",
        "outputId": "df8be479-ba6a-4d0f-b807-78d76d0b6914"
      },
      "outputs": [
        {
          "data": {
            "text/plain": [
              "0.0"
            ]
          },
          "execution_count": 7,
          "metadata": {},
          "output_type": "execute_result"
        }
      ],
      "source": [
        "#FIND THE 2tailed pvalue\n",
        "md_arr = np.array( md_list )\n",
        "extreme_left = np.sum( md_arr <= -Mobs )\n",
        "extreme_right = np.sum( md_arr >= Mobs )\n",
        "total_extreme = extreme_left + extreme_right\n",
        "total_extreme / len( md_arr )"
      ]
    },
    {
      "cell_type": "markdown",
      "metadata": {
        "collapsed": false,
        "id": "QdwRzm57FZuX"
      },
      "source": [
        "## Confidence Interval\n",
        "\n",
        "Resample from the differences array."
      ]
    },
    {
      "cell_type": "code",
      "execution_count": null,
      "metadata": {
        "id": "LRqdqD1AFZuX",
        "outputId": "b11c9b61-60cf-4c71-fd2c-28b49facfee8"
      },
      "outputs": [
        {
          "data": {
            "text/plain": [
              "<matplotlib.lines.Line2D at 0x7f69d95e3730>"
            ]
          },
          "execution_count": 8,
          "metadata": {},
          "output_type": "execute_result"
        },
        {
          "data": {
            "image/png": "[encoded data removed]",
            "text/plain": [
              "<Figure size 360x360 with 1 Axes>"
            ]
          },
          "execution_count": 8,
          "metadata": {
            "image/png": {
              "height": 365,
              "width": 352
            },
            "needs_background": "light"
          },
          "output_type": "execute_result"
        }
      ],
      "source": [
        "#MULTIPLE SIMULATIONS\n",
        "\n",
        "siumlations = range(10000)\n",
        "\n",
        "#TAKE THE DIFFERENCE BETWEEN THE DATASETS\n",
        "differences = exposed_arr - control_arr\n",
        "\n",
        "md_list = []\n",
        "for i in siumlations:\n",
        "    #CREATE A RANDOMIZE SIGN ARRAY\n",
        "    resample = np.random.choice( differences , len( differences ) )\n",
        "\n",
        "    #CALCULATE THE MEDIAN FLIP DIFFERENCES\n",
        "    md = np.median( resample )\n",
        "    \n",
        "    md_list.append( md )\n",
        "\n",
        "#CI CALCULATION\n",
        "md_sorted = sorted( md_list )\n",
        "Mlower = md_sorted[49]\n",
        "Mupper = md_sorted[9949]\n",
        "\n",
        "lowerbound = 2*Mobs - Mupper\n",
        "upperbound = 2*Mobs - Mlower\n",
        "p = sns.displot( data = md_list )\n",
        "p.set( xlabel = 'Median difference from CI simulations' )\n",
        "plt.axvline( Mobs , color = 'r' ) #observed value\n",
        "plt.axvline( lowerbound , color = 'g' ) #lowerbound\n",
        "plt.axvline( upperbound , color = 'g' ) #upperbound"
      ]
    },
    {
      "cell_type": "markdown",
      "metadata": {
        "collapsed": false,
        "id": "A_3NK8MKFZuY"
      },
      "source": [
        "# Help with HW5"
      ]
    },
    {
      "cell_type": "markdown",
      "metadata": {
        "collapsed": false,
        "id": "SeW3_NBmFZuZ"
      },
      "source": [
        "## Exercise 1\n",
        "\n",
        "We did not go over how to use the np.zeros() function in discussion, so I would like to describe what this function does. This function will creates an array of zeros for you depending on the number inputted. For example, if you were to type the following,\n",
        "\n",
        "import numpy as np\n",
        "\n",
        "np.zeros(10)\n",
        "\n",
        "you would get an array with 10 zeros, array([0., 0., 0., 0., 0., 0., 0., 0., 0., 0.]).\n",
        "\n",
        "Instead of defining an empty list to store values in, you store values in this array of zeros. This can be more efficient when knowing the number of elements you want to store beforehand, and because and empty list is constantly updating its size."
      ]
    },
    {
      "cell_type": "markdown",
      "metadata": {
        "collapsed": false,
        "id": "eSnDDKNjFZua"
      },
      "source": [
        "## Exercise 3 and 4\n",
        "\n",
        "When performing multiple tests, we need to perform a multiple-test correction - either the Benjamini-Hochberg correction or the Bonferroni correction.\n",
        "\n",
        "We can do these correction either by hand or with Python. \n",
        "\n",
        "If performing the correction with Python, we need to import the statsmodels.stats.multites library. We typically give this library the name smm.\n",
        "\n",
        "import statsmodels.stats.multitest as smm\n",
        "\n",
        "The function we are interested in using from statsmodels.stats.multites library, is the smm.multipletests() function.\n",
        "\n",
        "This function takes 3 inputs:\n",
        "\n",
        "$1^{st}$: the list of pvalues you are correcting.\n",
        "\n",
        "$2^{nd}$: the threshold you are using, $\\alpha$.\n",
        "\n",
        "$3^{rd}$: the method (as a string) you are using, Benjamini-Hochberg correction or the Bonferroni correction.\n",
        "\n",
        "smm.multipletests( pvals, alpha, method)\n",
        "\n",
        "The output contains 4 values:\n",
        "\n",
        "$1^{st}$: an array specifying which pvalues are statistically significant.\n",
        "\n",
        "$2^{nd}$: the corrected pvalues.\n",
        "\n",
        "$3^{rd}$: the corrected alpha for Sidak method - NOT IMPORTANT\n",
        "\n",
        "$4^{th}$: corrected alpha for Bonferroni method"
      ]
    },
    {
      "cell_type": "code",
      "execution_count": null,
      "metadata": {
        "id": "ti4osWKWFZub",
        "outputId": "09d0add2-e241-478d-9c8e-849da5f7c936"
      },
      "outputs": [
        {
          "data": {
            "text/plain": [
              "(array([False,  True, False,  True, False, False]),\n",
              " array([0.34  , 0.006 , 0.0126, 0.009 , 0.0156, 0.012 ]),\n",
              " 0.0016736538523104416,\n",
              " 0.0016666666666666668)"
            ]
          },
          "execution_count": 9,
          "metadata": {},
          "output_type": "execute_result"
        }
      ],
      "source": [
        "#1ST METHOD\n",
        "#Benjamini-Hochberg correction\n",
        "\n",
        "import statsmodels.stats.multitest as smm #import library\n",
        "\n",
        "pvalues = [0.34, 0.001, 0.0084, 0.003, 0.013, 0.006] #list of pvalues\n",
        "\n",
        "smm.multipletests( pvalues, alpha = 0.01, method = 'fdr_bh')"
      ]
    },
    {
      "cell_type": "code",
      "execution_count": null,
      "metadata": {
        "id": "Mc5Els-oFZub",
        "outputId": "5328bebb-387b-49ec-b2bf-353dd20d8cff"
      },
      "outputs": [
        {
          "data": {
            "text/plain": [
              "(array([False,  True, False, False, False, False]),\n",
              " array([1.    , 0.006 , 0.0504, 0.018 , 0.078 , 0.036 ]),\n",
              " 0.0016736538523104416,\n",
              " 0.0016666666666666668)"
            ]
          },
          "execution_count": 10,
          "metadata": {},
          "output_type": "execute_result"
        }
      ],
      "source": [
        "#2ND METHOD\n",
        "#Bonferroni correction\n",
        "\n",
        "import statsmodels.stats.multitest as smm #import library\n",
        "\n",
        "pvalues = [0.34, 0.001, 0.0084, 0.003, 0.013, 0.006] #list of pvalues\n",
        "\n",
        "smm.multipletests( pvalues, alpha = 0.01, method = 'bonferroni')"
      ]
    },
    {
      "cell_type": "markdown",
      "metadata": {
        "collapsed": false,
        "id": "tyiwQPU0FZuc"
      },
      "source": [
        "### Note: The Bonferroni correction has a stricter penalization towards your pvalues, causing higher false negatives to occur."
      ]
    },
    {
      "cell_type": "markdown",
      "metadata": {
        "collapsed": false,
        "id": "yhyPXuSyFZud"
      },
      "source": [
        "## Exercise 6"
      ]
    },
    {
      "cell_type": "code",
      "execution_count": null,
      "metadata": {
        "id": "JJMUFyZfFZud",
        "outputId": "b571dc41-3d78-4ad7-b1c7-6a5583f0f1cc"
      },
      "outputs": [
        {
          "data": {
            "text/html": [
              "<div>\n",
              "<style scoped>\n",
              "    .dataframe tbody tr th:only-of-type {\n",
              "        vertical-align: middle;\n",
              "    }\n",
              "\n",
              "    .dataframe tbody tr th {\n",
              "        vertical-align: top;\n",
              "    }\n",
              "\n",
              "    .dataframe thead th {\n",
              "        text-align: right;\n",
              "    }\n",
              "</style>\n",
              "<table border=\"1\" class=\"dataframe\">\n",
              "  <thead>\n",
              "    <tr style=\"text-align: right;\">\n",
              "      <th></th>\n",
              "      <th>Bath</th>\n",
              "      <th>Bath+Exercise</th>\n",
              "      <th>Exercise</th>\n",
              "    </tr>\n",
              "  </thead>\n",
              "  <tbody>\n",
              "    <tr>\n",
              "      <th>0</th>\n",
              "      <td>5</td>\n",
              "      <td>6</td>\n",
              "      <td>-12</td>\n",
              "    </tr>\n",
              "    <tr>\n",
              "      <th>1</th>\n",
              "      <td>10</td>\n",
              "      <td>10</td>\n",
              "      <td>-10</td>\n",
              "    </tr>\n",
              "    <tr>\n",
              "      <th>2</th>\n",
              "      <td>-4</td>\n",
              "      <td>0</td>\n",
              "      <td>-7</td>\n",
              "    </tr>\n",
              "    <tr>\n",
              "      <th>3</th>\n",
              "      <td>11</td>\n",
              "      <td>14</td>\n",
              "      <td>-1</td>\n",
              "    </tr>\n",
              "    <tr>\n",
              "      <th>4</th>\n",
              "      <td>-3</td>\n",
              "      <td>0</td>\n",
              "      <td>-1</td>\n",
              "    </tr>\n",
              "    <tr>\n",
              "      <th>5</th>\n",
              "      <td>13</td>\n",
              "      <td>15</td>\n",
              "      <td>0</td>\n",
              "    </tr>\n",
              "    <tr>\n",
              "      <th>6</th>\n",
              "      <td>0</td>\n",
              "      <td>4</td>\n",
              "      <td>0</td>\n",
              "    </tr>\n",
              "    <tr>\n",
              "      <th>7</th>\n",
              "      <td>2</td>\n",
              "      <td>5</td>\n",
              "      <td>0</td>\n",
              "    </tr>\n",
              "    <tr>\n",
              "      <th>8</th>\n",
              "      <td>10</td>\n",
              "      <td>11</td>\n",
              "      <td>0</td>\n",
              "    </tr>\n",
              "    <tr>\n",
              "      <th>9</th>\n",
              "      <td>6</td>\n",
              "      <td>7</td>\n",
              "      <td>0</td>\n",
              "    </tr>\n",
              "    <tr>\n",
              "      <th>10</th>\n",
              "      <td>-1</td>\n",
              "      <td>20</td>\n",
              "      <td>2</td>\n",
              "    </tr>\n",
              "    <tr>\n",
              "      <th>11</th>\n",
              "      <td>8</td>\n",
              "      <td>9</td>\n",
              "      <td>4</td>\n",
              "    </tr>\n",
              "    <tr>\n",
              "      <th>12</th>\n",
              "      <td>10</td>\n",
              "      <td>11</td>\n",
              "      <td>5</td>\n",
              "    </tr>\n",
              "    <tr>\n",
              "      <th>13</th>\n",
              "      <td>-9</td>\n",
              "      <td>21</td>\n",
              "      <td>5</td>\n",
              "    </tr>\n",
              "  </tbody>\n",
              "</table>\n",
              "</div>"
            ],
            "text/plain": [
              "    Bath  Bath+Exercise  Exercise\n",
              "0      5              6       -12\n",
              "1     10             10       -10\n",
              "2     -4              0        -7\n",
              "3     11             14        -1\n",
              "4     -3              0        -1\n",
              "5     13             15         0\n",
              "6      0              4         0\n",
              "7      2              5         0\n",
              "8     10             11         0\n",
              "9      6              7         0\n",
              "10    -1             20         2\n",
              "11     8              9         4\n",
              "12    10             11         5\n",
              "13    -9             21         5"
            ]
          },
          "execution_count": 4,
          "metadata": {},
          "output_type": "execute_result"
        }
      ],
      "source": [
        "#IMPORT DATA\n",
        "volume_change = pd.read_csv( 'contrast-baths.txt' , sep = '\\t' )\n",
        "\n",
        "volume_change #data frame"
      ]
    },
    {
      "cell_type": "code",
      "execution_count": null,
      "metadata": {
        "id": "EjbgfkcvFZue",
        "outputId": "46749302-9c9d-4d25-f0ce-2f3c4422bb77"
      },
      "outputs": [
        {
          "data": {
            "text/plain": [
              "array([ -0.5,   4.5,  -9.5,   5.5,  -8.5,   7.5,  -5.5,  -3.5,   4.5,\n",
              "         0.5,  -6.5,   2.5,   4.5, -14.5])"
            ]
          },
          "execution_count": 7,
          "metadata": {},
          "output_type": "execute_result"
        }
      ],
      "source": [
        "#EXTRACT EACH COLUMN\n",
        "\n",
        "B = volume_change['Bath']\n",
        "BE = volume_change['Bath+Exercise']\n",
        "E = volume_change['Exercise']\n",
        "\n",
        "B_arr = np.array( B )\n",
        "BE_arr = np.array( BE )\n",
        "E_Arr = np.array( E )\n",
        "\n",
        "B_decenter = B_arr - np.median( B_arr )"
      ]
    },
    {
      "cell_type": "markdown",
      "metadata": {
        "collapsed": false,
        "id": "NF8zTjeqFZuf"
      },
      "source": [
        "### Calculate F-statistic\n",
        "\n",
        "$F = \\frac{num}{ den}$\n",
        "\n",
        "**Ratio** of the **across group variability** vs **within group variability**.\n",
        "\n",
        "num = across group variability\n",
        "\n",
        "den = within group variability\n",
        "\n",
        "There is different ways to calculate this F-statistic. \n",
        "\n",
        "We will be using the following equation:\n",
        "\n",
        "Let A, B and C represent 3 different datasets. Then the F-statistics is\n",
        "\n",
        "$F = \\frac{n_{a}|\\widetilde{a}-\\widetilde{G}|+n_{b}|\\widetilde{b}-\\widetilde{G}|+n_{c}|\\widetilde{c}-\\widetilde{G}|}{\\Sigma|a_{i}-\\widetilde{a}|+\\Sigma|b_{i}-\\widetilde{b}|+\\Sigma|c_{i}-\\widetilde{c}|} $\n",
        "\n",
        "$\\widetilde{a}$ :the median of dataset A\n",
        "\n",
        "$\\widetilde{b}$ :the median of dataset B\n",
        "\n",
        "$\\widetilde{c}$ :the median of dataset C\n",
        "\n",
        "$\\widetilde{G}$: the grand median - median of all three datasets combined.\n",
        "\n",
        "$n_a$: number of data points in dataset A\n",
        "\n",
        "$n_b$: number of data points in dataset B\n",
        "\n",
        "$n_c$: number of data points in dataset C\n",
        "\n",
        "In our case $n_a = n_b = n_c$. \n",
        "\n",
        "So the F-statistic can be found by\n",
        "\n",
        "$F = \\frac{n_{a} ( |\\widetilde{a}-\\widetilde{G}|+|\\widetilde{b}-\\widetilde{G}|+|\\widetilde{c}-\\widetilde{G}| )}{\\Sigma|a_{i}-\\widetilde{a}|+\\Sigma|b_{i}-\\widetilde{b}|+\\Sigma|c_{i}-\\widetilde{c}|} $\n",
        "\n"
      ]
    },
    {
      "cell_type": "code",
      "execution_count": null,
      "metadata": {
        "id": "4Ti7wvNHFZuf",
        "outputId": "126939a9-a9cb-4867-8c6f-26d768395873"
      },
      "outputs": [
        {
          "data": {
            "text/plain": [
              "0.75"
            ]
          },
          "execution_count": 13,
          "metadata": {},
          "output_type": "execute_result"
        }
      ],
      "source": [
        "#FIND THE GRAND MEDIAN\n",
        "\n",
        "def Fcompute( data ):\n",
        "    G = np.median(data) #grand median\n",
        "\n",
        "    med_datas = data.median() #medians\n",
        "\n",
        "    n = len( data )\n",
        "\n",
        "    var_among = np.sum( n * np.abs(med_datas - G) ) #numerator\n",
        "\n",
        "    var_within = np.sum( np.sum( np.abs( data - med_datas ) ) ) #denominator\n",
        "\n",
        "    F = var_among/var_within\n",
        "\n",
        "    return F\n",
        "\n",
        "Fobs = Fcompute( volume_change )\n",
        "\n",
        "Fobs"
      ]
    },
    {
      "cell_type": "markdown",
      "metadata": {
        "collapsed": false,
        "id": "nU2HycpNFZug"
      },
      "source": [
        "### Note: The F-stat by itself does not tell you much. F-stat needs to be compared further with multiple simulations to determine if the observed F-stat is statistically significant."
      ]
    },
    {
      "cell_type": "markdown",
      "metadata": {
        "collapsed": false,
        "id": "A3--Z-80FZug"
      },
      "source": [
        "### Before performing the random simulation, we need to determine if we can assume a Big-Box method or need to decenter the datasets."
      ]
    },
    {
      "cell_type": "code",
      "execution_count": null,
      "metadata": {
        "id": "BviUxON_FZuh"
      },
      "outputs": [],
      "source": [
        "def MAD( datalist ):\n",
        "    z = []#empty list\n",
        "    for i in datalist:\n",
        "        z.append( np.abs( i - np.median(datalist) ) )\n",
        "    return np.median(z)"
      ]
    },
    {
      "cell_type": "code",
      "execution_count": null,
      "metadata": {
        "id": "42RJ_w5_FZuh",
        "outputId": "2de4fed8-11d7-4af8-c138-66a9e5762bca"
      },
      "outputs": [
        {
          "name": "stdout",
          "output_type": "stream",
          "text": [
            "5.0\n",
            "4.5\n",
            "1.5\n"
          ]
        }
      ],
      "source": [
        "print( MAD( B ) )\n",
        "print( MAD( BE ) )\n",
        "print( MAD( E ) )"
      ]
    },
    {
      "cell_type": "markdown",
      "metadata": {
        "collapsed": false,
        "id": "bSPThIqgFZui"
      },
      "source": [
        "### Since one of the MADs is half as small as the others, we need to decenter the data."
      ]
    },
    {
      "cell_type": "markdown",
      "metadata": {
        "collapsed": false,
        "id": "5kd1jvCCFZui"
      },
      "source": [
        "### Each dataset needs to be decentered. This can easily be done using DataFrame arithmetic."
      ]
    },
    {
      "cell_type": "code",
      "execution_count": null,
      "metadata": {
        "id": "GooASAIrFZui",
        "outputId": "7e9d725d-b96b-495e-b0a5-1bce61294e87"
      },
      "outputs": [
        {
          "data": {
            "text/html": [
              "<div>\n",
              "<style scoped>\n",
              "    .dataframe tbody tr th:only-of-type {\n",
              "        vertical-align: middle;\n",
              "    }\n",
              "\n",
              "    .dataframe tbody tr th {\n",
              "        vertical-align: top;\n",
              "    }\n",
              "\n",
              "    .dataframe thead th {\n",
              "        text-align: right;\n",
              "    }\n",
              "</style>\n",
              "<table border=\"1\" class=\"dataframe\">\n",
              "  <thead>\n",
              "    <tr style=\"text-align: right;\">\n",
              "      <th></th>\n",
              "      <th>Bath</th>\n",
              "      <th>Bath+Exercise</th>\n",
              "      <th>Exercise</th>\n",
              "    </tr>\n",
              "  </thead>\n",
              "  <tbody>\n",
              "    <tr>\n",
              "      <th>0</th>\n",
              "      <td>-0.5</td>\n",
              "      <td>-3.5</td>\n",
              "      <td>-12.0</td>\n",
              "    </tr>\n",
              "    <tr>\n",
              "      <th>1</th>\n",
              "      <td>4.5</td>\n",
              "      <td>0.5</td>\n",
              "      <td>-10.0</td>\n",
              "    </tr>\n",
              "    <tr>\n",
              "      <th>2</th>\n",
              "      <td>-9.5</td>\n",
              "      <td>-9.5</td>\n",
              "      <td>-7.0</td>\n",
              "    </tr>\n",
              "    <tr>\n",
              "      <th>3</th>\n",
              "      <td>5.5</td>\n",
              "      <td>4.5</td>\n",
              "      <td>-1.0</td>\n",
              "    </tr>\n",
              "    <tr>\n",
              "      <th>4</th>\n",
              "      <td>-8.5</td>\n",
              "      <td>-9.5</td>\n",
              "      <td>-1.0</td>\n",
              "    </tr>\n",
              "    <tr>\n",
              "      <th>5</th>\n",
              "      <td>7.5</td>\n",
              "      <td>5.5</td>\n",
              "      <td>0.0</td>\n",
              "    </tr>\n",
              "    <tr>\n",
              "      <th>6</th>\n",
              "      <td>-5.5</td>\n",
              "      <td>-5.5</td>\n",
              "      <td>0.0</td>\n",
              "    </tr>\n",
              "    <tr>\n",
              "      <th>7</th>\n",
              "      <td>-3.5</td>\n",
              "      <td>-4.5</td>\n",
              "      <td>0.0</td>\n",
              "    </tr>\n",
              "    <tr>\n",
              "      <th>8</th>\n",
              "      <td>4.5</td>\n",
              "      <td>1.5</td>\n",
              "      <td>0.0</td>\n",
              "    </tr>\n",
              "    <tr>\n",
              "      <th>9</th>\n",
              "      <td>0.5</td>\n",
              "      <td>-2.5</td>\n",
              "      <td>0.0</td>\n",
              "    </tr>\n",
              "    <tr>\n",
              "      <th>10</th>\n",
              "      <td>-6.5</td>\n",
              "      <td>10.5</td>\n",
              "      <td>2.0</td>\n",
              "    </tr>\n",
              "    <tr>\n",
              "      <th>11</th>\n",
              "      <td>2.5</td>\n",
              "      <td>-0.5</td>\n",
              "      <td>4.0</td>\n",
              "    </tr>\n",
              "    <tr>\n",
              "      <th>12</th>\n",
              "      <td>4.5</td>\n",
              "      <td>1.5</td>\n",
              "      <td>5.0</td>\n",
              "    </tr>\n",
              "    <tr>\n",
              "      <th>13</th>\n",
              "      <td>-14.5</td>\n",
              "      <td>11.5</td>\n",
              "      <td>5.0</td>\n",
              "    </tr>\n",
              "  </tbody>\n",
              "</table>\n",
              "</div>"
            ],
            "text/plain": [
              "    Bath  Bath+Exercise  Exercise\n",
              "0   -0.5           -3.5     -12.0\n",
              "1    4.5            0.5     -10.0\n",
              "2   -9.5           -9.5      -7.0\n",
              "3    5.5            4.5      -1.0\n",
              "4   -8.5           -9.5      -1.0\n",
              "5    7.5            5.5       0.0\n",
              "6   -5.5           -5.5       0.0\n",
              "7   -3.5           -4.5       0.0\n",
              "8    4.5            1.5       0.0\n",
              "9    0.5           -2.5       0.0\n",
              "10  -6.5           10.5       2.0\n",
              "11   2.5           -0.5       4.0\n",
              "12   4.5            1.5       5.0\n",
              "13 -14.5           11.5       5.0"
            ]
          },
          "execution_count": 19,
          "metadata": {},
          "output_type": "execute_result"
        }
      ],
      "source": [
        "med_vc = volume_change.median()\n",
        "\n",
        "volume_change - med_vc"
      ]
    },
    {
      "cell_type": "code",
      "execution_count": null,
      "metadata": {
        "id": "iCBm4CyAFZuj"
      },
      "outputs": [],
      "source": [
        "#STORE RESULT IN A VARIABLE\n",
        "decenter_vc = volume_change - med_vc"
      ]
    },
    {
      "cell_type": "markdown",
      "metadata": {
        "collapsed": false,
        "id": "AJ1Hj5cKFZuj"
      },
      "source": [
        "### Now we would like to see if we can replicate the F-statistic."
      ]
    },
    {
      "cell_type": "code",
      "execution_count": null,
      "metadata": {
        "id": "GEU03hpyFZuj",
        "outputId": "665ec7f3-afd4-4974-e0bd-c824063b9e20"
      },
      "outputs": [
        {
          "data": {
            "text/plain": [
              "<matplotlib.lines.Line2D at 0x7f69d90b3c70>"
            ]
          },
          "execution_count": 21,
          "metadata": {},
          "output_type": "execute_result"
        },
        {
          "data": {
            "image/png": "[encoded data removed]",
            "text/plain": [
              "<Figure size 360x360 with 1 Axes>"
            ]
          },
          "execution_count": 21,
          "metadata": {
            "image/png": {
              "height": 365,
              "width": 352
            },
            "needs_background": "light"
          },
          "output_type": "execute_result"
        }
      ],
      "source": [
        "simulations = range( 10000 )\n",
        "\n",
        "#EXTRACT EACH COLUMN FROM THE DECENTERED DATA\n",
        "\n",
        "decenter_B = decenter_vc[\"Bath\"]\n",
        "decenter_BE = decenter_vc['Bath+Exercise']\n",
        "decenter_E = decenter_vc['Exercise']\n",
        "\n",
        "F_list = []\n",
        "for i in simulations:\n",
        "    resample1 = np.random.choice( decenter_B,  len( decenter_B  ) )\n",
        "    resample2 = np.random.choice( decenter_BE, len( decenter_BE ) )\n",
        "    resample3 = np.random.choice( decenter_E,  len( decenter_E  ) )\n",
        "    df_resample = pd.DataFrame( np.column_stack([resample1, resample2, resample3] ) ) # Make dataframe\n",
        "    F_resample = Fcompute(df_resample) # Calculate F-statistic\n",
        "    F_list.append( F_resample ) #store in sims\n",
        "    \n",
        "#COMPARE F DISTRIBUTION VS F OBERVED\n",
        "p = sns.displot( data = F_list )\n",
        "p.set( xlabel = 'F-stat from resample simulations' )\n",
        "plt.axvline( Fobs , color = 'r' )"
      ]
    },
    {
      "cell_type": "markdown",
      "metadata": {
        "collapsed": false,
        "id": "RVN6D1K_FZuk"
      },
      "source": [
        "### From here you should be able to determine if the F-stat is statistically significant by finding a pvalue. If the F-statistic is significant, you can produce to 2 group comparison."
      ]
    },
    {
      "cell_type": "code",
      "execution_count": null,
      "metadata": {
        "id": "ejXFFp3aFZuk",
        "outputId": "2a9269a2-5e7b-4e39-ae92-c97ae7591dae"
      },
      "outputs": [
        {
          "data": {
            "text/plain": [
              "0.0174"
            ]
          },
          "execution_count": 22,
          "metadata": {},
          "output_type": "execute_result"
        }
      ],
      "source": [
        "F_arr = np.array( F_list )\n",
        "extreme = np.sum( F_arr >= Fobs )\n",
        "extreme/len( F_arr )"
      ]
    },
    {
      "cell_type": "code",
      "execution_count": null,
      "metadata": {
        "id": "3A44wNhhFZul"
      },
      "outputs": [],
      "source": [
        ""
      ]
    }
  ],
  "metadata": {
    "kernelspec": {
      "display_name": "Python 3 (system-wide)",
      "language": "python",
      "metadata": {
        "cocalc": {
          "description": "Python 3 programming language",
          "priority": 100,
          "url": "https://www.python.org/"
        }
      },
      "name": "python3",
      "resource_dir": "/ext/jupyter/kernels/python3"
    },
    "language_info": {
      "codemirror_mode": {
        "name": "ipython",
        "version": 3
      },
      "file_extension": ".py",
      "mimetype": "text/x-python",
      "name": "python",
      "nbconvert_exporter": "python",
      "pygments_lexer": "ipython3",
      "version": "3.8.10"
    },
    "colab": {
      "name": "Paired Study.ipynb",
      "provenance": []
    }
  },
  "nbformat": 4,
  "nbformat_minor": 0
}