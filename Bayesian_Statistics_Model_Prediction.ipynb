{
  "cells": [
    {
      "cell_type": "markdown",
      "metadata": {
        "collapsed": false,
        "id": "8xXlvAIBnFK8"
      },
      "source": [
        "# Bayesian Statistics"
      ]
    },
    {
      "cell_type": "markdown",
      "metadata": {
        "collapsed": false,
        "id": "7JB5yT17nFK-"
      },
      "source": [
        "## Scenario\n",
        "\n",
        "Two species of costal birds: **cormorants** $C$ and **seagulls** $S$.\n",
        "\n",
        "### Unknown\n",
        "\n",
        "We do not know the population distribution.\n",
        "\n",
        "### Two recommended models\n",
        "\n",
        "1) M1: 75% cormorants and 25% seagulls\n",
        "\n",
        "2) M2: 50% cormorants and 50% seagulls\n",
        "\n",
        "### Goal: Determine if model 1 is true.\n",
        "\n",
        "Probability that model 1 is true - $p(M1)$\n",
        "\n",
        "$p(M1) = p(A)$\n",
        "\n",
        "$p(C or S) = p(B)$\n",
        "\n",
        "### Bayes' theorem:\n",
        "\n",
        "Used to **updated the probability** of a hypothesis being true\n",
        "\n",
        "**as more data presents itself.**\n",
        "\n",
        "$ p(A|B) = \\frac{p(B|A)p(A)}{p(B)} $\n",
        "\n",
        "$ \\rightarrow p(H|E) = \\frac{p(E|H)p(H)}{p(E)}$\n",
        "\n",
        "$H$: Hypothesis - Model 1\n",
        "\n",
        "$E$: Event - seeing a cormorant or a seagull\n",
        "\n",
        "In our case:\n",
        "\n",
        "$ p(M1| C ) = \\frac{p(C|M1)p(M1)}{p(C)}$ - prob M1 is true given we saw a cormorant\n",
        "\n",
        "$ p(M1| S ) = \\frac{p(S|M1)p(M1)}{p(S)}$ - prob M1 is true given we saw a seagull\n",
        "\n",
        "In this lab, $p(C)$ and $p(S)$ are not given and need to calculated.\n",
        "\n",
        "Probability of any event occurring:\n",
        "\n",
        "$p(E) = p(E|H)p(H) + p(E|\\lnot H)p(\\lnot H)$\n",
        "\n",
        "$ p(C) = p(C|M1)p(M1) + p(C|M2)p(M2)$\n",
        "\n",
        "By conservation of probability $p(S) + p(C) = 1$\n",
        "\n",
        "$ p(S) = 1 -  p(C)$\n",
        "\n",
        "### Reminder of goal: p(M1)\n",
        "\n",
        "Once we know $p(M1|C)$ or $p(M1|S)$\n",
        "\n",
        "we can update $p(M1)$:\n",
        "\n",
        "$p(M1) = p(M1|C)$\n",
        "\n",
        "or \n",
        "\n",
        "$p(M1) = p(M1|S)$"
      ]
    },
    {
      "cell_type": "code",
      "execution_count": 1,
      "metadata": {
        "id": "yYXkr85AnFK_"
      },
      "outputs": [],
      "source": [
        "#IMPORT LIBRARIES\n",
        "import numpy as np\n",
        "import seaborn as sns\n",
        "import matplotlib.pyplot as plt\n"
      ]
    },
    {
      "cell_type": "markdown",
      "metadata": {
        "collapsed": false,
        "id": "HMSES53XnFK_"
      },
      "source": [
        "Find \n",
        "\n",
        "$p(C|M1)$ - prob seeing C given model 1\n",
        "\n",
        "$p(S|M1)$ - prob seeing S given model 1\n",
        "\n",
        "$p(C|M2)$ - prob seeing C given model 2\n",
        "\n",
        "$p(S|M2)$ - prob seeing S given model 2\n",
        "\n",
        "$p(M1)$ - prob of choosing M1 to be true\n",
        "\n",
        "$p(M2) = 1 - p(M1)$ - prob of choosing M2 to be true\n",
        "\n",
        "$p(C)$  - prob of seeing a seagull\n",
        "\n",
        "$p(S) = 1 - p(C)$  - prob of seeing a cormorant\n"
      ]
    },
    {
      "cell_type": "code",
      "execution_count": 2,
      "metadata": {
        "id": "jCNnN2KvnFLA"
      },
      "outputs": [],
      "source": [
        "#INPUT GIVEN INFO\n",
        "\n",
        "#1) M1: 75% cormorants and 25% seagulls\n",
        "#2) M2: 50% cormorants and 50% seagulls\n",
        "\n",
        "model1 = np.array( [ 0.75 , 0.25 ] ) #p(C|M1) and p(S|M1)\n",
        "model2 = np.array( [ 0.5 , 0.5 ] ) #p(C|M2) and p(S|M2)\n",
        "\n",
        "#3) Until we are given more information\n",
        "#there is an equal chance either model is true\n",
        "probM1_M2 = np.array( [ 0.5 , 0.5 ] ) #p(M1) and p(M2)\n",
        "#THESE TWO NUMBERS REPRESENT p(A) and p(-A)\n"
      ]
    },
    {
      "cell_type": "markdown",
      "metadata": {
        "collapsed": false,
        "id": "aBhNAnBznFLA"
      },
      "source": [
        "To find $p(C)$ and $p(S)$ use:\n",
        "\n",
        "$p(B) = p(B|A)p(A) + p(B|\\lnot A)p(\\lnot A)$\n",
        "\n",
        "Let $B = C$ and $A = M1$\n",
        "\n",
        "$ \\rightarrow p(C) = p(C|M1)p(M1) + p(C|\\lnot M1)p(\\lnot M1)$\n",
        "\n",
        "$ p(C) = p(C|M1)p(M1) + p(C|M2)p(M2)$\n",
        "\n",
        "$ p(S) = 1 -  p(C)$"
      ]
    },
    {
      "cell_type": "code",
      "execution_count": 3,
      "metadata": {
        "id": "DO_u-MAQnFLB"
      },
      "outputs": [],
      "source": [
        "#Find p(C) and p(S)\n",
        "\n",
        "probC = model1[0] * probM1_M2[0] + model2[0] * probM1_M2[1]\n",
        "probS = 1 - probC\n"
      ]
    },
    {
      "cell_type": "markdown",
      "metadata": {
        "collapsed": false,
        "id": "etcgYbxynFLB"
      },
      "source": [
        "#### Event 1 - We saw a cormorant\n",
        "\n",
        "$p(M1|C) =  \\frac{p(C|M1)p(M1)}{p(C)}$"
      ]
    },
    {
      "cell_type": "code",
      "execution_count": 4,
      "metadata": {
        "colab": {
          "base_uri": "https://localhost:8080/"
        },
        "id": "DfzGkhG9nFLC",
        "outputId": "34f666b1-6293-4e73-ca1a-95065b0dc8d0"
      },
      "outputs": [
        {
          "output_type": "execute_result",
          "data": {
            "text/plain": [
              "0.6"
            ]
          },
          "metadata": {},
          "execution_count": 4
        }
      ],
      "source": [
        "#P(M1|C) = P(C|M1) * P(M1) /P(C)\n",
        "probM1_given_C = model1[0] * probM1_M2[0] / probC\n",
        "probM1_given_C"
      ]
    },
    {
      "cell_type": "code",
      "execution_count": 5,
      "metadata": {
        "colab": {
          "base_uri": "https://localhost:8080/"
        },
        "id": "ZkoGJbYhnFLD",
        "outputId": "f8c86c3d-509d-4ee9-e66e-eacc3a72790e"
      },
      "outputs": [
        {
          "output_type": "execute_result",
          "data": {
            "text/plain": [
              "array([0.6, 0.4])"
            ]
          },
          "metadata": {},
          "execution_count": 5
        }
      ],
      "source": [
        "#REDEFINE THE PRIORS\n",
        "#p(M1) = P(M1|C)\n",
        "#p(M2) = 1 - P(M1|C)\n",
        "probM1_M2[0] = probM1_given_C\n",
        "probM1_M2[1] = 1 - probM1_given_C\n",
        "probM1_M2"
      ]
    },
    {
      "cell_type": "markdown",
      "metadata": {
        "collapsed": false,
        "id": "DD-6_-9mnFLD"
      },
      "source": [
        "#### Event 2 - We saw another cormorant\n",
        "\n",
        "$p(M1|C) =  \\frac{p(C|M1)p(M1)}{p(C)}$"
      ]
    },
    {
      "cell_type": "code",
      "execution_count": 6,
      "metadata": {
        "colab": {
          "base_uri": "https://localhost:8080/"
        },
        "id": "Mr2ZRXeunFLD",
        "outputId": "6cb11115-7142-4acd-a88e-8c21a3765333"
      },
      "outputs": [
        {
          "output_type": "execute_result",
          "data": {
            "text/plain": [
              "0.6923076923076923"
            ]
          },
          "metadata": {},
          "execution_count": 6
        }
      ],
      "source": [
        "#Find p(C) and p(S)\n",
        "\n",
        "probC = model1[0] * probM1_M2[0] + model2[0] * probM1_M2[1]\n",
        "probS = 1 - probC\n",
        "\n",
        "#P(M1|C) = P(C|M1) * P(M1) /P(C)\n",
        "\n",
        "probM1_given_C = model1[0] * probM1_M2[0] / probC\n",
        "probM1_given_C"
      ]
    },
    {
      "cell_type": "code",
      "execution_count": 7,
      "metadata": {
        "colab": {
          "base_uri": "https://localhost:8080/"
        },
        "id": "MLlwWJ-xnFLE",
        "outputId": "ca21cafe-e100-4b0c-e641-de6d3b08e5c2"
      },
      "outputs": [
        {
          "output_type": "execute_result",
          "data": {
            "text/plain": [
              "array([0.69230769, 0.30769231])"
            ]
          },
          "metadata": {},
          "execution_count": 7
        }
      ],
      "source": [
        "#REDEFINE THE PRIORS\n",
        "#p(M1) = P(M1|C)\n",
        "#p(M2) = 1 - P(M1|C)\n",
        "probM1_M2[0] = probM1_given_C #prob M1 is true\n",
        "probM1_M2[1] = 1 - probM1_given_C #prob M1 is not true - prob M2\n",
        "probM1_M2"
      ]
    },
    {
      "cell_type": "markdown",
      "metadata": {
        "collapsed": false,
        "id": "vdMMRpOMnFLE"
      },
      "source": [
        "#### Event 3 - We saw a seagull.\n",
        "\n",
        "$p(M1|S) =  \\frac{p(S|M1)p(M1)}{p(S)}$"
      ]
    },
    {
      "cell_type": "code",
      "execution_count": 8,
      "metadata": {
        "colab": {
          "base_uri": "https://localhost:8080/"
        },
        "id": "EeOkqv-CnFLE",
        "outputId": "538645d7-df21-4d00-dabd-5ee4aa9865c8"
      },
      "outputs": [
        {
          "output_type": "execute_result",
          "data": {
            "text/plain": [
              "0.5294117647058822"
            ]
          },
          "metadata": {},
          "execution_count": 8
        }
      ],
      "source": [
        "#P(M1|S) = P(S|M1) * P(M1) /P(S)\n",
        "probC = model1[0] * probM1_M2[0] + model2[0] * probM1_M2[1]\n",
        "probS = 1 - probC\n",
        "\n",
        "#P(M1|S) = P(S|M1) * P(M1) /P(S)\n",
        "probM1_given_S = model1[1] * probM1_M2[0] / probS\n",
        "probM1_given_S"
      ]
    },
    {
      "cell_type": "code",
      "execution_count": 9,
      "metadata": {
        "colab": {
          "base_uri": "https://localhost:8080/"
        },
        "id": "QtzBnpyRnFLF",
        "outputId": "b82b93fa-561e-4ac6-952e-9895fa6420a4"
      },
      "outputs": [
        {
          "output_type": "execute_result",
          "data": {
            "text/plain": [
              "array([0.52941176, 0.47058824])"
            ]
          },
          "metadata": {},
          "execution_count": 9
        }
      ],
      "source": [
        "#REDEFINE THE PRIORS\n",
        "#p(M1) = P(M1|C)\n",
        "#p(M2) = 1 - P(M1|C)\n",
        "probM1_M2[0] = probM1_given_S #prob M1 is true\n",
        "probM1_M2[1] = 1 - probM1_given_S #prob M1 is not true - prob M2\n",
        "probM1_M2"
      ]
    },
    {
      "cell_type": "code",
      "execution_count": 10,
      "metadata": {
        "colab": {
          "base_uri": "https://localhost:8080/"
        },
        "id": "_D0_oHNYnFLF",
        "outputId": "d3c8db09-9175-4214-c7a0-5492c8d8ed64"
      },
      "outputs": [
        {
          "output_type": "execute_result",
          "data": {
            "text/plain": [
              "array([0.6, 0.4])"
            ]
          },
          "metadata": {},
          "execution_count": 10
        }
      ],
      "source": [
        "#Script\n",
        "#automate this task\n",
        "bird = 'C' #the curren event\n",
        "\n",
        "#M1: 75% cormorants and 25% seagulls\n",
        "#M2: 50% cormorants and 50% seagulls\n",
        "model1 = np.array( [ 0.75 , 0.25 ] ) #p(C|M1) and p(S|M1)\n",
        "model2 = np.array( [ 0.5 , 0.5 ] ) #p(C|M2) and p(S|M2)\n",
        "\n",
        "#Until we are given more information\n",
        "#there is an equal chance either model is true\n",
        "probM1_M2 = np.array( [ 0.5 , 0.5 ] ) #p(M1) and p(M2)\n",
        "#THESE TWO NUMBERS REPRESENT p(A) and p(-A)\n",
        "\n",
        "#Find p(C) and p(S)\n",
        "\n",
        "probC = model1[0] * probM1_M2[0] + model2[0] * probM1_M2[1]\n",
        "probS = 1 - probC\n",
        "\n",
        "if bird == 'C':\n",
        "    #P(M1|C) = P(C|M1) * P(M1) /P(C)\n",
        "    probM1_given_C = model1[0] * probM1_M2[0] / probC\n",
        "    probM1_M2[0] = probM1_given_C #prob M1 is true\n",
        "    probM1_M2[1] = 1 - probM1_given_C #prob M1 is not true - prob M2\n",
        "else: #if the bird == 'S'\n",
        "    probM1_given_S = model1[1] * probM1_M2[0] / probS\n",
        "    probM1_M2[0] = probM1_given_S #prob M1 is true\n",
        "    probM1_M2[1] = 1 - probM1_given_S #prob M1 is not true - prob M2\n",
        "\n",
        "probM1_M2"
      ]
    },
    {
      "cell_type": "code",
      "execution_count": 11,
      "metadata": {
        "id": "61GxEyeInFLF"
      },
      "outputs": [],
      "source": [
        "birds = ['C', 'S', 'C', 'C', 'C', 'C', 'C', 'C', 'S', 'C', 'C', 'C', 'S', 'C', 'S', 'C', 'C', 'C', 'C', 'C']\n",
        "\n",
        "#M1: 75% cormorants and 25% seagulls\n",
        "#M2: 50% cormorants and 50% seagulls\n",
        "model1 = np.array( [ 0.75 , 0.25 ] ) #p(C|M1) and p(S|M1)\n",
        "model2 = np.array( [ 0.5 , 0.5 ] ) #p(C|M2) and p(S|M2)\n",
        "\n",
        "#Until we are given more information\n",
        "#there is an equal chance either model is true\n",
        "probM1_M2 = np.array( [ 0.5 , 0.5 ] ) #p(M1) and p(M2)\n",
        "#THESE TWO NUMBERS REPRESENT p(A) and p(-A)\n",
        "\n",
        "propM1_list = []\n",
        "propM2_list = []\n",
        "for i in birds:\n",
        "    #Find p(C) and p(S)\n",
        "    probC = model1[0] * probM1_M2[0] + model2[0] * probM1_M2[1]\n",
        "    probS = 1 - probC\n",
        "    #WHICH EVENT\n",
        "    if i == 'C':\n",
        "        #P(M1|C) = P(C|M1) * P(M1) /P(C)\n",
        "        probM1_given_C = model1[0] * probM1_M2[0] / probC\n",
        "        probM1_M2[0] = probM1_given_C #prob M1 is true\n",
        "        probM1_M2[1] = 1 - probM1_given_C #prob M1 is not true - prob M2\n",
        "    else: #if the bird == 'S'\n",
        "        probM1_given_S = model1[1] * probM1_M2[0] / probS\n",
        "        probM1_M2[0] = probM1_given_S #prob M1 is true\n",
        "        probM1_M2[1] = 1 - probM1_given_S #prob M1 is not true - prob M2\n",
        "    propM1_list.append( probM1_M2[0] )\n",
        "    propM2_list.append( probM1_M2[1] )"
      ]
    },
    {
      "cell_type": "code",
      "execution_count": 12,
      "metadata": {
        "colab": {
          "base_uri": "https://localhost:8080/"
        },
        "id": "bXLcvWAWnFLG",
        "outputId": "d138598f-0620-4d24-df58-b1d611c9bce0"
      },
      "outputs": [
        {
          "output_type": "execute_result",
          "data": {
            "text/plain": [
              "[0.6,\n",
              " 0.42857142857142844,\n",
              " 0.5294117647058821,\n",
              " 0.6279069767441857,\n",
              " 0.7168141592920352,\n",
              " 0.791530944625407,\n",
              " 0.8506417736289379,\n",
              " 0.8952108063855913,\n",
              " 0.8103001111522783,\n",
              " 0.864996704021094,\n",
              " 0.9057567530256314,\n",
              " 0.9351334230738775,\n",
              " 0.8781695691616719,\n",
              " 0.9153417281985828,\n",
              " 0.8438987209108444,\n",
              " 0.8902202262398715,\n",
              " 0.9240336270824939,\n",
              " 0.9480400141681661,\n",
              " 0.9647494704399424,\n",
              " 0.9762202304703832]"
            ]
          },
          "metadata": {},
          "execution_count": 12
        }
      ],
      "source": [
        "propM1_list"
      ]
    },
    {
      "cell_type": "code",
      "execution_count": 13,
      "metadata": {
        "colab": {
          "base_uri": "https://localhost:8080/"
        },
        "id": "KSQ9O0dlnFLG",
        "outputId": "b0bae205-27b0-4f56-d887-a42c0b0754a0"
      },
      "outputs": [
        {
          "output_type": "execute_result",
          "data": {
            "text/plain": [
              "[0.4,\n",
              " 0.5714285714285716,\n",
              " 0.47058823529411786,\n",
              " 0.3720930232558143,\n",
              " 0.2831858407079648,\n",
              " 0.20846905537459304,\n",
              " 0.1493582263710621,\n",
              " 0.10478919361440875,\n",
              " 0.1896998888477217,\n",
              " 0.13500329597890603,\n",
              " 0.09424324697436859,\n",
              " 0.06486657692612252,\n",
              " 0.12183043083832812,\n",
              " 0.08465827180141716,\n",
              " 0.1561012790891556,\n",
              " 0.10977977376012849,\n",
              " 0.07596637291750608,\n",
              " 0.05195998583183392,\n",
              " 0.035250529560057586,\n",
              " 0.0237797695296168]"
            ]
          },
          "metadata": {},
          "execution_count": 13
        }
      ],
      "source": [
        "propM2_list"
      ]
    },
    {
      "cell_type": "markdown",
      "metadata": {
        "collapsed": false,
        "id": "kUgaOGBcnFLG"
      },
      "source": [
        "11. Plot your list using the `sns.lineplot` command. The basic syntax is `sns.lineplot(x,y)`. You can use `range` to generate a list of x-values and then use array arithmetic to calculate y-values."
      ]
    },
    {
      "cell_type": "code",
      "execution_count": 14,
      "metadata": {
        "colab": {
          "base_uri": "https://localhost:8080/",
          "height": 354
        },
        "id": "N_sAevNnnFLG",
        "outputId": "2fc320ca-c058-4327-8f17-a4e3106f4a27"
      },
      "outputs": [
        {
          "output_type": "stream",
          "name": "stderr",
          "text": [
            "/usr/local/lib/python3.7/dist-packages/seaborn/_decorators.py:43: FutureWarning: Pass the following variables as keyword args: x, y. From version 0.12, the only valid positional argument will be `data`, and passing other arguments without an explicit keyword will result in an error or misinterpretation.\n",
            "  FutureWarning\n"
          ]
        },
        {
          "output_type": "execute_result",
          "data": {
            "text/plain": [
              "Text(0, 0.5, 'Probability of Model 1 being true')"
            ]
          },
          "metadata": {},
          "execution_count": 14
        },
        {
          "output_type": "display_data",
          "data": {
            "text/plain": [
              "<Figure size 432x288 with 1 Axes>"
            ],
            "image/png": "[encoded data removed]"
          },
          "metadata": {
            "needs_background": "light"
          }
        }
      ],
      "source": [
        "#TODO\n",
        "\n",
        "x_values = list(range(len(birds)))\n",
        "sns.lineplot(x_values, propM1_list, marker='o')\n",
        "\n",
        "plt.xticks(x_values)\n",
        "plt.xlabel(\"Steps\")\n",
        "plt.ylabel(\"Probability of Model 1 being true\")"
      ]
    },
    {
      "cell_type": "code",
      "source": [],
      "metadata": {
        "id": "I73213MkolRg"
      },
      "execution_count": 14,
      "outputs": []
    }
  ],
  "metadata": {
    "kernelspec": {
      "display_name": "Python 3 (system-wide)",
      "language": "python",
      "metadata": {
        "cocalc": {
          "description": "Python 3 programming language",
          "priority": 100,
          "url": "https://www.python.org/"
        }
      },
      "name": "python3",
      "resource_dir": "/ext/jupyter/kernels/python3"
    },
    "language_info": {
      "codemirror_mode": {
        "name": "ipython",
        "version": 3
      },
      "file_extension": ".py",
      "mimetype": "text/x-python",
      "name": "python",
      "nbconvert_exporter": "python",
      "pygments_lexer": "ipython3",
      "version": "3.8.10"
    },
    "colab": {
      "provenance": []
    }
  },
  "nbformat": 4,
  "nbformat_minor": 0
}