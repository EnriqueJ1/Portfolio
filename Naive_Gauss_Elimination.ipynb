{
  "nbformat": 4,
  "nbformat_minor": 0,
  "metadata": {
    "colab": {
      "name": "Naive Gauss Elimination.ipynb",
      "provenance": []
    },
    "kernelspec": {
      "name": "python3",
      "display_name": "Python 3"
    },
    "language_info": {
      "name": "python"
    }
  },
  "cells": [
    {
      "cell_type": "markdown",
      "source": [
        "# Develop the code to perform Naive Gauss Elimination.\n",
        "\n",
        "$$Ax = b$$\n",
        "\n",
        "$A$ is some square matrix.\n",
        "\n",
        "$A = \\begin{pmatrix}\n",
        "a_{00} & a_{01} & a_{02}& a_{03}\\\\\n",
        "a_{10} & a_{11} & a_{12}& a_{13}\\\\\n",
        "a_{20} & a_{21} & a_{22}& a_{23}\\\\\n",
        "a_{30} & a_{31} & a_{32}& a_{33}\n",
        "\\end{pmatrix}$\n",
        "\n",
        "$x$ and $b$ are a column vectors.\n",
        "\n",
        "$x = \\begin{pmatrix}\n",
        "x_0\\\\\n",
        "x_1\\\\\n",
        "x_2\\\\\n",
        "x_3\n",
        "\\end{pmatrix}\n",
        "$\n",
        "\n",
        "$b = \\begin{pmatrix}\n",
        "b_0\\\\\n",
        "b_1\\\\\n",
        "b_2\\\\\n",
        "b_3\n",
        "\\end{pmatrix}\n",
        "$\n",
        "## Start by developing the code to turn a matrix into Row-Echelon form: Foward-Elimation."
      ],
      "metadata": {
        "id": "U7YlwckWJ-lc"
      }
    },
    {
      "cell_type": "markdown",
      "source": [
        "### Solve the system of equations - $x_1 , x_2 , x_3 , x_4$.\n",
        "\n",
        "$x_1 + x_2 - 3x_3 + x_4 = 2$\n",
        "\n",
        "$-5x_1 + 3x_2 - 4x_3 + x_4 = 0$\n",
        "\n",
        "$x_1 + 0x_2 + 2x_3 - x_4 = 1$\n",
        "\n",
        "$x_1 + 2x_2 + 0x_3 + 0x_4 = 12$"
      ],
      "metadata": {
        "id": "VZIG5tuuljNq"
      }
    },
    {
      "cell_type": "code",
      "execution_count": 1,
      "metadata": {
        "colab": {
          "base_uri": "https://localhost:8080/"
        },
        "id": "OHORk82fA3dV",
        "outputId": "d5b6471f-1711-4d38-f4a5-c2eca17508f9"
      },
      "outputs": [
        {
          "output_type": "execute_result",
          "data": {
            "text/plain": [
              "array([[ 1.,  1., -3.,  1.],\n",
              "       [-5.,  3., -4.,  1.],\n",
              "       [ 1.,  0.,  2., -1.],\n",
              "       [ 1.,  2.,  0.,  0.]])"
            ]
          },
          "metadata": {},
          "execution_count": 1
        }
      ],
      "source": [
        "import numpy as np\n",
        "\n",
        "#store the coeffients of a system of equations into list\n",
        "#each list will represent a particular equation\n",
        "eq1 = [1,1,-3,1]\n",
        "eq2 = [-5,3,-4,1]\n",
        "eq3 = [1,0,2,-1]\n",
        "eq4 = [1,2,0,0]\n",
        "\n",
        "A = np.array( [eq1, eq2 , eq3 , eq4], float ) #make an array out of the system of\n",
        "                                              #equations\n",
        "                                              #The A matrix\n",
        "\n",
        "b = np.array( [2,0,1,12] , float ) #store the right-hand side of the equations into an\n",
        "                                   #array\n",
        "\n",
        "n = len(b)\n",
        "\n",
        "A"
      ]
    },
    {
      "cell_type": "markdown",
      "source": [
        "## Remove $x_1$ from equation 2\n",
        "\n",
        "Steps:\n",
        "\n",
        "1) Multiply each element in equation 1 by $a_{10}/a_{00}$.\n",
        "\n",
        "2) Then subtract equation 2 and $a_{10}/a_{00}$ * equation 1.\n",
        "\n",
        "3) Store the result in equation 2."
      ],
      "metadata": {
        "id": "mKzcnGKqJv46"
      }
    },
    {
      "cell_type": "code",
      "source": [
        "factor = A[1,0] / A[0,0] #take the factor for the first equation\n",
        "for i in range( 0 , n ): #need index numbers from 0 upto 3\n",
        "  A[1,i] = A[1,i]  - factor * A[0,i] #multiply the factor to the first row. Then subtract the second row by the previous result"
      ],
      "metadata": {
        "id": "QVJYxbV-EN6f"
      },
      "execution_count": 2,
      "outputs": []
    },
    {
      "cell_type": "code",
      "source": [
        "A"
      ],
      "metadata": {
        "colab": {
          "base_uri": "https://localhost:8080/"
        },
        "id": "Y5t9p-HmEg3m",
        "outputId": "bc4abb27-bfd9-4a32-ab1e-3dd35e2c7268"
      },
      "execution_count": 3,
      "outputs": [
        {
          "output_type": "execute_result",
          "data": {
            "text/plain": [
              "array([[  1.,   1.,  -3.,   1.],\n",
              "       [  0.,   8., -19.,   6.],\n",
              "       [  1.,   0.,   2.,  -1.],\n",
              "       [  1.,   2.,   0.,   0.]])"
            ]
          },
          "metadata": {},
          "execution_count": 3
        }
      ]
    },
    {
      "cell_type": "markdown",
      "source": [
        "## Remove all the $x_1$'s from equations 2 - 4. "
      ],
      "metadata": {
        "id": "NJM2SunrM8ui"
      }
    },
    {
      "cell_type": "code",
      "source": [
        "import numpy as np\n",
        "\n",
        "#store the coeffients of a system of equations into list\n",
        "#each list will represent a particular equation\n",
        "eq1 = [1,1,-3,1]\n",
        "eq2 = [-5,3,-4,1]\n",
        "eq3 = [1,0,2,-1]\n",
        "eq4 = [1,2,0,0]\n",
        "\n",
        "A = np.array( [eq1, eq2 , eq3 , eq4], float ) #make an array out of the system of\n",
        "                                              #equations\n",
        "                                              #The A matrix\n",
        "\n",
        "b = np.array( [2,0,1,12] , float ) #store the right-hand side of the equations into an\n",
        "                                   #array\n",
        "n = len(b)\n",
        "\n",
        "A"
      ],
      "metadata": {
        "colab": {
          "base_uri": "https://localhost:8080/"
        },
        "id": "1yq9QjpKNLDU",
        "outputId": "13b82acb-6f51-4471-95d8-838c3661196f"
      },
      "execution_count": 4,
      "outputs": [
        {
          "output_type": "execute_result",
          "data": {
            "text/plain": [
              "array([[ 1.,  1., -3.,  1.],\n",
              "       [-5.,  3., -4.,  1.],\n",
              "       [ 1.,  0.,  2., -1.],\n",
              "       [ 1.,  2.,  0.,  0.]])"
            ]
          },
          "metadata": {},
          "execution_count": 4
        }
      ]
    },
    {
      "cell_type": "markdown",
      "source": [
        "### The factor will change for each equation.\n",
        "\n",
        "Equation 1 will be mulitplied by $a_{10}/a_{00}$\n",
        "\n",
        "Equation 2 will be mulitplied by $a_{20}/a_{00}$\n",
        "\n",
        "Equation 3 will be mulitplied by $a_{30}/a_{00}$\n",
        "\n",
        "### So in general to get rid of $x_1$, each equation will need to be multiplied by $a_{j0}/a_{00}$.\n",
        "\n",
        "#### where $j = 1, 2, 3$.\n",
        "\n",
        "##### **Note: We will also use the index number $j$ to represet all the different equations.**\n"
      ],
      "metadata": {
        "id": "OQX5RcVtNWJy"
      }
    },
    {
      "cell_type": "code",
      "source": [
        "for j in range( 1 , n ): #for each equation\n",
        "  factor = A[j,0] / A[0,0] #take the factor for each equation\n",
        "  for i in range( 0 , n ): #need index numbers from 0 upto n\n",
        "    A[j,i] = A[j,i]  - factor * A[0,i] #R(j)= R(j) - factor * R(j-1)\n",
        "  b[j] = b[j] - factor * b[0]"
      ],
      "metadata": {
        "id": "nyZofd2kNQM2"
      },
      "execution_count": 5,
      "outputs": []
    },
    {
      "cell_type": "code",
      "source": [
        "A"
      ],
      "metadata": {
        "colab": {
          "base_uri": "https://localhost:8080/"
        },
        "id": "rWsrmiABRpzL",
        "outputId": "3a452c8a-9de1-410e-e831-88029165e8e1"
      },
      "execution_count": 6,
      "outputs": [
        {
          "output_type": "execute_result",
          "data": {
            "text/plain": [
              "array([[  1.,   1.,  -3.,   1.],\n",
              "       [  0.,   8., -19.,   6.],\n",
              "       [  0.,  -1.,   5.,  -2.],\n",
              "       [  0.,   1.,   3.,  -1.]])"
            ]
          },
          "metadata": {},
          "execution_count": 6
        }
      ]
    },
    {
      "cell_type": "code",
      "source": [
        "b"
      ],
      "metadata": {
        "colab": {
          "base_uri": "https://localhost:8080/"
        },
        "id": "nJ8F4C84RvTQ",
        "outputId": "24985115-c2e8-4424-b5e9-b8fc22367632"
      },
      "execution_count": 7,
      "outputs": [
        {
          "output_type": "execute_result",
          "data": {
            "text/plain": [
              "array([ 2., 10., -1., 10.])"
            ]
          },
          "metadata": {},
          "execution_count": 7
        }
      ]
    },
    {
      "cell_type": "markdown",
      "source": [
        "# Row Echelon form\n",
        "## Remove all the $x_1$'s from equations 2 - 4. \n",
        "## Remove all the $x_2$'s from equations 3 and 4. \n",
        "## Remove $x_3$ from equation 4. \n",
        "\n"
      ],
      "metadata": {
        "id": "qwsQ3F1gTFVt"
      }
    },
    {
      "cell_type": "markdown",
      "source": [
        "### The factor will change for each equation and which variable we will be eliminating- $x_k$.\n",
        "\n",
        "#### where $k = 1, 2, 3$.\n",
        "\n",
        "### So in general to get rid of $x_k$, each equation will need to be multiplied by $a_{jk}/a_{kk}$.\n",
        "\n",
        "#### where $j = 1, 2, 3$."
      ],
      "metadata": {
        "id": "WTIYei2nT-YP"
      }
    },
    {
      "cell_type": "code",
      "source": [
        "import numpy as np\n",
        "\n",
        "#store the coeffients of a system of equations into list\n",
        "#each list will represent a particular equation\n",
        "eq1 = [1,1,-3,1]\n",
        "eq2 = [-5,3,-4,1]\n",
        "eq3 = [1,0,2,-1]\n",
        "eq4 = [1,2,0,0]\n",
        "\n",
        "A = np.array( [eq1, eq2 , eq3 , eq4], float ) #make an array out of the system of\n",
        "                                              #equations\n",
        "                                              #The A matrix\n",
        "\n",
        "b = np.array( [2,0,1,12] , float ) #store the right-hand side of the equations into an\n",
        "                                   #array\n",
        "n = len(b)\n",
        "\n",
        "A"
      ],
      "metadata": {
        "colab": {
          "base_uri": "https://localhost:8080/"
        },
        "id": "vILZ2RbaUQoP",
        "outputId": "a1d718b5-052e-4da7-dbd5-e500fe2fd3a5"
      },
      "execution_count": 8,
      "outputs": [
        {
          "output_type": "execute_result",
          "data": {
            "text/plain": [
              "array([[ 1.,  1., -3.,  1.],\n",
              "       [-5.,  3., -4.,  1.],\n",
              "       [ 1.,  0.,  2., -1.],\n",
              "       [ 1.,  2.,  0.,  0.]])"
            ]
          },
          "metadata": {},
          "execution_count": 8
        }
      ]
    },
    {
      "cell_type": "code",
      "source": [
        "for k in range( n - 1 ): #for each variable\n",
        "  for j in range( k + 1 , n ): #for each equation\n",
        "    factor = A[j,k] / A[k,k] #take the factor for each equation\n",
        "    for i in range( k  , n ): #need index numbers from k+1 upto n\n",
        "      A[j,i] = A[j,i]  - factor * A[k,i] #R(j)= R(j) - factor * R(j-1)\n",
        "    b[j] = b[j] - factor * b[k]"
      ],
      "metadata": {
        "id": "DXcb8_dRUlUT"
      },
      "execution_count": 9,
      "outputs": []
    },
    {
      "cell_type": "code",
      "source": [
        "A"
      ],
      "metadata": {
        "colab": {
          "base_uri": "https://localhost:8080/"
        },
        "id": "uAN7o__mU-jP",
        "outputId": "6224cb7f-1e83-4ab3-dc71-d969987c8078"
      },
      "execution_count": 10,
      "outputs": [
        {
          "output_type": "execute_result",
          "data": {
            "text/plain": [
              "array([[  1.        ,   1.        ,  -3.        ,   1.        ],\n",
              "       [  0.        ,   8.        , -19.        ,   6.        ],\n",
              "       [  0.        ,   0.        ,   2.625     ,  -1.25      ],\n",
              "       [  0.        ,   0.        ,   0.        ,   0.80952381]])"
            ]
          },
          "metadata": {},
          "execution_count": 10
        }
      ]
    },
    {
      "cell_type": "code",
      "source": [
        "b"
      ],
      "metadata": {
        "colab": {
          "base_uri": "https://localhost:8080/"
        },
        "id": "DQFL924GU_9A",
        "outputId": "a14e950b-1f4f-4a03-8ff8-85f31704cfb8"
      },
      "execution_count": 11,
      "outputs": [
        {
          "output_type": "execute_result",
          "data": {
            "text/plain": [
              "array([ 2.        , 10.        ,  0.25      ,  8.23809524])"
            ]
          },
          "metadata": {},
          "execution_count": 11
        }
      ]
    },
    {
      "cell_type": "markdown",
      "source": [
        "## Backward-Substitution"
      ],
      "metadata": {
        "id": "zKQiKqWTaeq7"
      }
    },
    {
      "cell_type": "markdown",
      "source": [
        "### Solve for $x_3$."
      ],
      "metadata": {
        "id": "n8NVFLbcdx4I"
      }
    },
    {
      "cell_type": "code",
      "source": [
        "x = np.zeros(n) #array of zeros\n",
        "x[3] = b[3]/A[3,3] #the last variable x(k) = b(k)/A[k,k]\n",
        "x"
      ],
      "metadata": {
        "colab": {
          "base_uri": "https://localhost:8080/"
        },
        "id": "v41rAkkVd5nG",
        "outputId": "bc59b8af-7b27-4543-b8e1-0c78fe710d98"
      },
      "execution_count": 12,
      "outputs": [
        {
          "output_type": "execute_result",
          "data": {
            "text/plain": [
              "array([ 0.        ,  0.        ,  0.        , 10.17647059])"
            ]
          },
          "metadata": {},
          "execution_count": 12
        }
      ]
    },
    {
      "cell_type": "markdown",
      "source": [
        "### Solve for $x_2$."
      ],
      "metadata": {
        "id": "73pa4l6CeLEw"
      }
    },
    {
      "cell_type": "code",
      "source": [
        "sum_x3 = b[2]\n",
        "\n",
        "x[2] = (sum_x3 - A[2,3]*x[3]) / A[2,2]\n",
        "\n",
        "x"
      ],
      "metadata": {
        "colab": {
          "base_uri": "https://localhost:8080/"
        },
        "id": "NymbgooWeQLJ",
        "outputId": "6c9505c8-884d-45ab-cc5e-5ba26bad269c"
      },
      "execution_count": 13,
      "outputs": [
        {
          "output_type": "execute_result",
          "data": {
            "text/plain": [
              "array([ 0.        ,  0.        ,  4.94117647, 10.17647059])"
            ]
          },
          "metadata": {},
          "execution_count": 13
        }
      ]
    },
    {
      "cell_type": "markdown",
      "source": [
        "### Solve for $x_1$."
      ],
      "metadata": {
        "id": "VAK_BHhzfeu5"
      }
    },
    {
      "cell_type": "code",
      "source": [
        "sum_x2 = b[1]\n",
        "sum_x2 = sum_x2 - ( A[1,2]*x[2] + A[1,3]*x[3] )\n",
        "x[1] = sum_x2 / A[1,1]\n",
        "\n",
        "x"
      ],
      "metadata": {
        "colab": {
          "base_uri": "https://localhost:8080/"
        },
        "id": "3INhWgU5fhVr",
        "outputId": "32a78100-1a0b-41e9-bec4-5b0f032e3ccf"
      },
      "execution_count": 14,
      "outputs": [
        {
          "output_type": "execute_result",
          "data": {
            "text/plain": [
              "array([ 0.        ,  5.35294118,  4.94117647, 10.17647059])"
            ]
          },
          "metadata": {},
          "execution_count": 14
        }
      ]
    },
    {
      "cell_type": "markdown",
      "source": [
        "### Solve for $x_0$."
      ],
      "metadata": {
        "id": "2zWe44d-gnS2"
      }
    },
    {
      "cell_type": "code",
      "source": [
        "sum_x1 = b[0]\n",
        "sum_x1 = sum_x1 - ( A[0,1]*x[1] + A[0,2]*x[2] + A[0,3]*x[3] )\n",
        "x[0] = sum_x1 / A[0,0]\n",
        "\n",
        "x"
      ],
      "metadata": {
        "colab": {
          "base_uri": "https://localhost:8080/"
        },
        "id": "MRRlDqapgrVt",
        "outputId": "bd2d9031-f13c-42be-e4a1-35c1fd9387ac"
      },
      "execution_count": 15,
      "outputs": [
        {
          "output_type": "execute_result",
          "data": {
            "text/plain": [
              "array([ 1.29411765,  5.35294118,  4.94117647, 10.17647059])"
            ]
          },
          "metadata": {},
          "execution_count": 15
        }
      ]
    },
    {
      "cell_type": "markdown",
      "source": [
        "### Solve for each $x_k$."
      ],
      "metadata": {
        "id": "gZg0e_I9dwTp"
      }
    },
    {
      "cell_type": "code",
      "source": [
        "x = np.zeros(n) #array of zeros\n",
        "x[n-1] = b[n-1]/A[n-1,n-1] #the last variable x(k) = b(k)/A[k,k]\n",
        "\n",
        "for k in range( n - 2, -1 , -1 ): #for each b value\n",
        "  s = b[k] #second to last b value\n",
        "  for j in range( k + 1 , n ): #for each x1, x2,... x(k-2)\n",
        "    s = s - A[k,j] * x[j]\n",
        "  x[k] = s / A[k,k]"
      ],
      "metadata": {
        "id": "kXx5_cP4VQmk"
      },
      "execution_count": 16,
      "outputs": []
    },
    {
      "cell_type": "code",
      "source": [
        "x"
      ],
      "metadata": {
        "colab": {
          "base_uri": "https://localhost:8080/"
        },
        "id": "9qXbVq25YO6w",
        "outputId": "1ad2d0bb-dadd-4464-baed-5601c14f74b5"
      },
      "execution_count": 17,
      "outputs": [
        {
          "output_type": "execute_result",
          "data": {
            "text/plain": [
              "array([ 1.29411765,  5.35294118,  4.94117647, 10.17647059])"
            ]
          },
          "metadata": {},
          "execution_count": 17
        }
      ]
    },
    {
      "cell_type": "markdown",
      "source": [
        "## Automate the task with a function"
      ],
      "metadata": {
        "id": "KqdJKnz3hiqZ"
      }
    },
    {
      "cell_type": "code",
      "source": [
        "def Gauss( A , b ):\n",
        "  #Foward-Elimation \n",
        "  n = len(b)\n",
        "\n",
        "  for k in range( n - 1 ): #for each variable\n",
        "    for j in range( k + 1 , n ): #for each equation\n",
        "      factor = A[j,k] / A[k,k] #take the factor for each equation\n",
        "      for i in range( k  , n ): #need index numbers from k+1 upto n\n",
        "        A[j,i] = A[j,i]  - factor * A[k,i] #R(j)= R(j) - factor * R(j-1)\n",
        "      b[j] = b[j] - factor * b[k]\n",
        "\n",
        "  # Backward-Substitution\n",
        "  x = np.zeros(n) #array of zeros to store solutions\n",
        "  x[n-1] = b[n-1]/A[n-1,n-1] #the last variable x(k) = b(k)/A[k,k]\n",
        "\n",
        "  for k in range( n - 2, -1 , -1 ): #for each b value\n",
        "    s = b[k] #second to last b value\n",
        "    for j in range( k + 1 , n ): #for each x1, x2,... x(k-2)\n",
        "      s = s - A[k,j] * x[j]\n",
        "    x[k] = s / A[k,k]\n",
        "\n",
        "  return x"
      ],
      "metadata": {
        "id": "wwkSY9UAhotB"
      },
      "execution_count": 18,
      "outputs": []
    },
    {
      "cell_type": "code",
      "source": [
        "#store the coeffients of a system of equations into list\n",
        "#each list will represent a particular equation\n",
        "eq1 = [1,1,-3,1]\n",
        "eq2 = [-5,3,-4,1]\n",
        "eq3 = [1,0,2,-1]\n",
        "eq4 = [1,2,0,0]\n",
        "\n",
        "A = np.array( [eq1, eq2 , eq3 , eq4], float ) #make an array out of the system of\n",
        "                                              #equations\n",
        "                                              #The A matrix\n",
        "\n",
        "b = np.array( [2,0,1,12] , float ) #store the right-hand side of the equations into an\n",
        "                                   #array\n",
        "Gauss(A,b)"
      ],
      "metadata": {
        "colab": {
          "base_uri": "https://localhost:8080/"
        },
        "id": "G4TqNUiCiQzb",
        "outputId": "899af9f2-a36e-4084-c0e9-68b1b4ef1044"
      },
      "execution_count": 19,
      "outputs": [
        {
          "output_type": "execute_result",
          "data": {
            "text/plain": [
              "array([ 1.29411765,  5.35294118,  4.94117647, 10.17647059])"
            ]
          },
          "metadata": {},
          "execution_count": 19
        }
      ]
    },
    {
      "cell_type": "markdown",
      "source": [
        "##### **Note: This function does not perform partial pivoting**"
      ],
      "metadata": {
        "id": "JO_siDxTm8ab"
      }
    }
  ]
}